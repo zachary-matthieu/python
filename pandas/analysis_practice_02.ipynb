{
 "cells": [
  {
   "cell_type": "code",
   "execution_count": 16,
   "id": "7e8195f2-fc95-40e5-bd7f-1d20bfc0f61b",
   "metadata": {},
   "outputs": [],
   "source": [
    "import pandas as pd"
   ]
  },
  {
   "cell_type": "code",
   "execution_count": 69,
   "id": "49995278-66a6-48e0-b6b9-7fd9e2673466",
   "metadata": {},
   "outputs": [],
   "source": [
    "pd.set_option('display.float_format', lambda x: '%.3f' % x)"
   ]
  },
  {
   "cell_type": "code",
   "execution_count": 17,
   "id": "da05b89f-dcdf-4468-aae2-fe57dbfdb35a",
   "metadata": {},
   "outputs": [],
   "source": [
    "df = pd.read_csv(r'C:\\Users\\zacha\\Hyperborea\\csv files\\survey_results_public.csv')"
   ]
  },
  {
   "cell_type": "code",
   "execution_count": 23,
   "id": "2ead73df-cb6c-43d0-a69a-61e221e65709",
   "metadata": {},
   "outputs": [
    {
     "data": {
      "text/html": [
       "<div>\n",
       "<style scoped>\n",
       "    .dataframe tbody tr th:only-of-type {\n",
       "        vertical-align: middle;\n",
       "    }\n",
       "\n",
       "    .dataframe tbody tr th {\n",
       "        vertical-align: top;\n",
       "    }\n",
       "\n",
       "    .dataframe thead th {\n",
       "        text-align: right;\n",
       "    }\n",
       "</style>\n",
       "<table border=\"1\" class=\"dataframe\">\n",
       "  <thead>\n",
       "    <tr style=\"text-align: right;\">\n",
       "      <th></th>\n",
       "      <th>MainBranch</th>\n",
       "      <th>Employment</th>\n",
       "      <th>Country</th>\n",
       "      <th>US_State</th>\n",
       "      <th>UK_Country</th>\n",
       "      <th>EdLevel</th>\n",
       "      <th>Age1stCode</th>\n",
       "      <th>LearnCode</th>\n",
       "      <th>YearsCode</th>\n",
       "      <th>YearsCodePro</th>\n",
       "      <th>...</th>\n",
       "      <th>Age</th>\n",
       "      <th>Gender</th>\n",
       "      <th>Trans</th>\n",
       "      <th>Sexuality</th>\n",
       "      <th>Ethnicity</th>\n",
       "      <th>Accessibility</th>\n",
       "      <th>MentalHealth</th>\n",
       "      <th>SurveyLength</th>\n",
       "      <th>SurveyEase</th>\n",
       "      <th>Salary</th>\n",
       "    </tr>\n",
       "    <tr>\n",
       "      <th>Respondent</th>\n",
       "      <th></th>\n",
       "      <th></th>\n",
       "      <th></th>\n",
       "      <th></th>\n",
       "      <th></th>\n",
       "      <th></th>\n",
       "      <th></th>\n",
       "      <th></th>\n",
       "      <th></th>\n",
       "      <th></th>\n",
       "      <th></th>\n",
       "      <th></th>\n",
       "      <th></th>\n",
       "      <th></th>\n",
       "      <th></th>\n",
       "      <th></th>\n",
       "      <th></th>\n",
       "      <th></th>\n",
       "      <th></th>\n",
       "      <th></th>\n",
       "      <th></th>\n",
       "    </tr>\n",
       "  </thead>\n",
       "  <tbody>\n",
       "    <tr>\n",
       "      <th>1</th>\n",
       "      <td>I am a developer by profession</td>\n",
       "      <td>Independent contractor, freelancer, or self-em...</td>\n",
       "      <td>Slovakia</td>\n",
       "      <td>NaN</td>\n",
       "      <td>NaN</td>\n",
       "      <td>Secondary school (e.g. American high school, G...</td>\n",
       "      <td>18 - 24 years</td>\n",
       "      <td>Coding Bootcamp;Other online resources (ex: vi...</td>\n",
       "      <td>NaN</td>\n",
       "      <td>NaN</td>\n",
       "      <td>...</td>\n",
       "      <td>25-34 years old</td>\n",
       "      <td>Man</td>\n",
       "      <td>No</td>\n",
       "      <td>Straight / Heterosexual</td>\n",
       "      <td>White or of European descent</td>\n",
       "      <td>None of the above</td>\n",
       "      <td>None of the above</td>\n",
       "      <td>Appropriate in length</td>\n",
       "      <td>Easy</td>\n",
       "      <td>62268.0</td>\n",
       "    </tr>\n",
       "    <tr>\n",
       "      <th>2</th>\n",
       "      <td>I am a student who is learning to code</td>\n",
       "      <td>Student, full-time</td>\n",
       "      <td>Netherlands</td>\n",
       "      <td>NaN</td>\n",
       "      <td>NaN</td>\n",
       "      <td>Bachelor’s degree (B.A., B.S., B.Eng., etc.)</td>\n",
       "      <td>11 - 17 years</td>\n",
       "      <td>Other online resources (ex: videos, blogs, etc...</td>\n",
       "      <td>7</td>\n",
       "      <td>NaN</td>\n",
       "      <td>...</td>\n",
       "      <td>18-24 years old</td>\n",
       "      <td>Man</td>\n",
       "      <td>No</td>\n",
       "      <td>Straight / Heterosexual</td>\n",
       "      <td>White or of European descent</td>\n",
       "      <td>None of the above</td>\n",
       "      <td>None of the above</td>\n",
       "      <td>Appropriate in length</td>\n",
       "      <td>Easy</td>\n",
       "      <td>NaN</td>\n",
       "    </tr>\n",
       "    <tr>\n",
       "      <th>3</th>\n",
       "      <td>I am not primarily a developer, but I write co...</td>\n",
       "      <td>Student, full-time</td>\n",
       "      <td>Russia</td>\n",
       "      <td>NaN</td>\n",
       "      <td>NaN</td>\n",
       "      <td>Bachelor’s degree (B.A., B.S., B.Eng., etc.)</td>\n",
       "      <td>11 - 17 years</td>\n",
       "      <td>Other online resources (ex: videos, blogs, etc...</td>\n",
       "      <td>NaN</td>\n",
       "      <td>NaN</td>\n",
       "      <td>...</td>\n",
       "      <td>18-24 years old</td>\n",
       "      <td>Man</td>\n",
       "      <td>No</td>\n",
       "      <td>Prefer not to say</td>\n",
       "      <td>Prefer not to say</td>\n",
       "      <td>None of the above</td>\n",
       "      <td>None of the above</td>\n",
       "      <td>Appropriate in length</td>\n",
       "      <td>Easy</td>\n",
       "      <td>NaN</td>\n",
       "    </tr>\n",
       "  </tbody>\n",
       "</table>\n",
       "<p>3 rows × 47 columns</p>\n",
       "</div>"
      ],
      "text/plain": [
       "                                                   MainBranch  \\\n",
       "Respondent                                                      \n",
       "1                              I am a developer by profession   \n",
       "2                      I am a student who is learning to code   \n",
       "3           I am not primarily a developer, but I write co...   \n",
       "\n",
       "                                                   Employment      Country  \\\n",
       "Respondent                                                                   \n",
       "1           Independent contractor, freelancer, or self-em...     Slovakia   \n",
       "2                                          Student, full-time  Netherlands   \n",
       "3                                          Student, full-time       Russia   \n",
       "\n",
       "           US_State UK_Country  \\\n",
       "Respondent                       \n",
       "1               NaN        NaN   \n",
       "2               NaN        NaN   \n",
       "3               NaN        NaN   \n",
       "\n",
       "                                                      EdLevel     Age1stCode  \\\n",
       "Respondent                                                                     \n",
       "1           Secondary school (e.g. American high school, G...  18 - 24 years   \n",
       "2                Bachelor’s degree (B.A., B.S., B.Eng., etc.)  11 - 17 years   \n",
       "3                Bachelor’s degree (B.A., B.S., B.Eng., etc.)  11 - 17 years   \n",
       "\n",
       "                                                    LearnCode YearsCode  \\\n",
       "Respondent                                                                \n",
       "1           Coding Bootcamp;Other online resources (ex: vi...       NaN   \n",
       "2           Other online resources (ex: videos, blogs, etc...         7   \n",
       "3           Other online resources (ex: videos, blogs, etc...       NaN   \n",
       "\n",
       "           YearsCodePro  ...              Age Gender Trans  \\\n",
       "Respondent               ...                                 \n",
       "1                   NaN  ...  25-34 years old    Man    No   \n",
       "2                   NaN  ...  18-24 years old    Man    No   \n",
       "3                   NaN  ...  18-24 years old    Man    No   \n",
       "\n",
       "                          Sexuality                     Ethnicity  \\\n",
       "Respondent                                                          \n",
       "1           Straight / Heterosexual  White or of European descent   \n",
       "2           Straight / Heterosexual  White or of European descent   \n",
       "3                 Prefer not to say             Prefer not to say   \n",
       "\n",
       "                Accessibility       MentalHealth           SurveyLength  \\\n",
       "Respondent                                                                \n",
       "1           None of the above  None of the above  Appropriate in length   \n",
       "2           None of the above  None of the above  Appropriate in length   \n",
       "3           None of the above  None of the above  Appropriate in length   \n",
       "\n",
       "           SurveyEase   Salary  \n",
       "Respondent                      \n",
       "1                Easy  62268.0  \n",
       "2                Easy      NaN  \n",
       "3                Easy      NaN  \n",
       "\n",
       "[3 rows x 47 columns]"
      ]
     },
     "execution_count": 23,
     "metadata": {},
     "output_type": "execute_result"
    }
   ],
   "source": [
    "df.head(3)"
   ]
  },
  {
   "cell_type": "code",
   "execution_count": 19,
   "id": "6f8ac0ee-7f5c-4d90-b659-e6ff8b469031",
   "metadata": {},
   "outputs": [],
   "source": [
    "df.rename(columns = {'ResponseId': 'Respondent'}, inplace = True)"
   ]
  },
  {
   "cell_type": "code",
   "execution_count": 20,
   "id": "2b2f6de6-09db-4cfe-98d9-404a2a7f84c8",
   "metadata": {},
   "outputs": [],
   "source": [
    "df.set_index('Respondent', inplace = True)"
   ]
  },
  {
   "cell_type": "code",
   "execution_count": 21,
   "id": "c8935181-d918-4a48-8214-e86358454def",
   "metadata": {},
   "outputs": [],
   "source": [
    "df.rename(columns = {'ConvertedCompYearly': 'Salary'}, inplace = True)"
   ]
  },
  {
   "cell_type": "code",
   "execution_count": 22,
   "id": "56c9b209-8f4c-4b82-a930-bbcd864b5b96",
   "metadata": {},
   "outputs": [],
   "source": [
    "df['Country'] = df['Country'].replace(['Russian Federation'], 'Russia')"
   ]
  },
  {
   "cell_type": "code",
   "execution_count": 24,
   "id": "e27b7f21-c4a7-41d1-b35f-efc5347c7d65",
   "metadata": {},
   "outputs": [],
   "source": [
    "df['Country'] = df['Country'].replace(['United States of America'], 'America') "
   ]
  },
  {
   "cell_type": "code",
   "execution_count": 32,
   "id": "768b7130-9880-430b-9565-dc7372ae6221",
   "metadata": {},
   "outputs": [
    {
     "data": {
      "text/plain": [
       "Respondent\n",
       "1        False\n",
       "2        False\n",
       "3         True\n",
       "4        False\n",
       "5        False\n",
       "         ...  \n",
       "83435    False\n",
       "83436    False\n",
       "83437    False\n",
       "83438    False\n",
       "83439    False\n",
       "Name: Country, Length: 83439, dtype: bool"
      ]
     },
     "execution_count": 32,
     "metadata": {},
     "output_type": "execute_result"
    }
   ],
   "source": [
    "russia_filt = df['Country'] == 'Russia'\n",
    "\n",
    "russia_filt"
   ]
  },
  {
   "cell_type": "code",
   "execution_count": 33,
   "id": "a0f39a15-c62b-4060-859c-0ea560a1ee00",
   "metadata": {},
   "outputs": [
    {
     "data": {
      "text/plain": [
       "False    81965\n",
       "True      1474\n",
       "Name: Country, dtype: int64"
      ]
     },
     "execution_count": 33,
     "metadata": {},
     "output_type": "execute_result"
    }
   ],
   "source": [
    "russia_filt.value_counts()"
   ]
  },
  {
   "cell_type": "code",
   "execution_count": 34,
   "id": "a24a9851-7989-4d9b-9210-8fb23196ccb3",
   "metadata": {},
   "outputs": [
    {
     "data": {
      "text/plain": [
       "37772.203872437356"
      ]
     },
     "execution_count": 34,
     "metadata": {},
     "output_type": "execute_result"
    }
   ],
   "source": [
    "df.loc[russia_filt]['Salary'].mean()"
   ]
  },
  {
   "cell_type": "code",
   "execution_count": 35,
   "id": "8f4831c5-27de-4895-a8e4-a270f2ed6620",
   "metadata": {},
   "outputs": [
    {
     "data": {
      "text/plain": [
       "32088.0"
      ]
     },
     "execution_count": 35,
     "metadata": {},
     "output_type": "execute_result"
    }
   ],
   "source": [
    "df.loc[russia_filt]['Salary'].median()"
   ]
  },
  {
   "cell_type": "code",
   "execution_count": 43,
   "id": "dfd29c39-ac1d-40a7-8527-dfb36680b5d2",
   "metadata": {},
   "outputs": [
    {
     "data": {
      "text/html": [
       "<div>\n",
       "<style scoped>\n",
       "    .dataframe tbody tr th:only-of-type {\n",
       "        vertical-align: middle;\n",
       "    }\n",
       "\n",
       "    .dataframe tbody tr th {\n",
       "        vertical-align: top;\n",
       "    }\n",
       "\n",
       "    .dataframe thead th {\n",
       "        text-align: right;\n",
       "    }\n",
       "</style>\n",
       "<table border=\"1\" class=\"dataframe\">\n",
       "  <thead>\n",
       "    <tr style=\"text-align: right;\">\n",
       "      <th></th>\n",
       "      <th>MainBranch</th>\n",
       "      <th>Employment</th>\n",
       "      <th>Country</th>\n",
       "      <th>US_State</th>\n",
       "      <th>UK_Country</th>\n",
       "      <th>EdLevel</th>\n",
       "      <th>Age1stCode</th>\n",
       "      <th>LearnCode</th>\n",
       "      <th>YearsCode</th>\n",
       "      <th>YearsCodePro</th>\n",
       "      <th>...</th>\n",
       "      <th>Age</th>\n",
       "      <th>Gender</th>\n",
       "      <th>Trans</th>\n",
       "      <th>Sexuality</th>\n",
       "      <th>Ethnicity</th>\n",
       "      <th>Accessibility</th>\n",
       "      <th>MentalHealth</th>\n",
       "      <th>SurveyLength</th>\n",
       "      <th>SurveyEase</th>\n",
       "      <th>Salary</th>\n",
       "    </tr>\n",
       "    <tr>\n",
       "      <th>Respondent</th>\n",
       "      <th></th>\n",
       "      <th></th>\n",
       "      <th></th>\n",
       "      <th></th>\n",
       "      <th></th>\n",
       "      <th></th>\n",
       "      <th></th>\n",
       "      <th></th>\n",
       "      <th></th>\n",
       "      <th></th>\n",
       "      <th></th>\n",
       "      <th></th>\n",
       "      <th></th>\n",
       "      <th></th>\n",
       "      <th></th>\n",
       "      <th></th>\n",
       "      <th></th>\n",
       "      <th></th>\n",
       "      <th></th>\n",
       "      <th></th>\n",
       "      <th></th>\n",
       "    </tr>\n",
       "  </thead>\n",
       "  <tbody>\n",
       "    <tr>\n",
       "      <th>6</th>\n",
       "      <td>I am a student who is learning to code</td>\n",
       "      <td>Student, part-time</td>\n",
       "      <td>America</td>\n",
       "      <td>Georgia</td>\n",
       "      <td>NaN</td>\n",
       "      <td>Bachelor’s degree (B.A., B.S., B.Eng., etc.)</td>\n",
       "      <td>11 - 17 years</td>\n",
       "      <td>Other online resources (ex: videos, blogs, etc...</td>\n",
       "      <td>NaN</td>\n",
       "      <td>NaN</td>\n",
       "      <td>...</td>\n",
       "      <td>18-24 years old</td>\n",
       "      <td>Prefer not to say</td>\n",
       "      <td>No</td>\n",
       "      <td>Straight / Heterosexual</td>\n",
       "      <td>Prefer not to say</td>\n",
       "      <td>None of the above</td>\n",
       "      <td>I have a concentration and/or memory disorder ...</td>\n",
       "      <td>Too long</td>\n",
       "      <td>Neither easy nor difficult</td>\n",
       "      <td>NaN</td>\n",
       "    </tr>\n",
       "    <tr>\n",
       "      <th>7</th>\n",
       "      <td>I code primarily as a hobby</td>\n",
       "      <td>I prefer not to say</td>\n",
       "      <td>America</td>\n",
       "      <td>New Hampshire</td>\n",
       "      <td>NaN</td>\n",
       "      <td>Secondary school (e.g. American high school, G...</td>\n",
       "      <td>11 - 17 years</td>\n",
       "      <td>Other online resources (ex: videos, blogs, etc...</td>\n",
       "      <td>3</td>\n",
       "      <td>NaN</td>\n",
       "      <td>...</td>\n",
       "      <td>Prefer not to say</td>\n",
       "      <td>Prefer not to say</td>\n",
       "      <td>No</td>\n",
       "      <td>NaN</td>\n",
       "      <td>I don't know</td>\n",
       "      <td>None of the above</td>\n",
       "      <td>None of the above</td>\n",
       "      <td>Appropriate in length</td>\n",
       "      <td>Neither easy nor difficult</td>\n",
       "      <td>NaN</td>\n",
       "    </tr>\n",
       "    <tr>\n",
       "      <th>16</th>\n",
       "      <td>I am a student who is learning to code</td>\n",
       "      <td>Student, full-time</td>\n",
       "      <td>America</td>\n",
       "      <td>Missouri</td>\n",
       "      <td>NaN</td>\n",
       "      <td>Secondary school (e.g. American high school, G...</td>\n",
       "      <td>5 - 10 years</td>\n",
       "      <td>Other (please specify):</td>\n",
       "      <td>7</td>\n",
       "      <td>NaN</td>\n",
       "      <td>...</td>\n",
       "      <td>Under 18 years old</td>\n",
       "      <td>Man</td>\n",
       "      <td>No</td>\n",
       "      <td>Straight / Heterosexual</td>\n",
       "      <td>White or of European descent</td>\n",
       "      <td>None of the above</td>\n",
       "      <td>I have a concentration and/or memory disorder ...</td>\n",
       "      <td>Too long</td>\n",
       "      <td>Easy</td>\n",
       "      <td>NaN</td>\n",
       "    </tr>\n",
       "  </tbody>\n",
       "</table>\n",
       "<p>3 rows × 47 columns</p>\n",
       "</div>"
      ],
      "text/plain": [
       "                                        MainBranch           Employment  \\\n",
       "Respondent                                                                \n",
       "6           I am a student who is learning to code   Student, part-time   \n",
       "7                      I code primarily as a hobby  I prefer not to say   \n",
       "16          I am a student who is learning to code   Student, full-time   \n",
       "\n",
       "            Country       US_State UK_Country  \\\n",
       "Respondent                                      \n",
       "6           America        Georgia        NaN   \n",
       "7           America  New Hampshire        NaN   \n",
       "16          America       Missouri        NaN   \n",
       "\n",
       "                                                      EdLevel     Age1stCode  \\\n",
       "Respondent                                                                     \n",
       "6                Bachelor’s degree (B.A., B.S., B.Eng., etc.)  11 - 17 years   \n",
       "7           Secondary school (e.g. American high school, G...  11 - 17 years   \n",
       "16          Secondary school (e.g. American high school, G...   5 - 10 years   \n",
       "\n",
       "                                                    LearnCode YearsCode  \\\n",
       "Respondent                                                                \n",
       "6           Other online resources (ex: videos, blogs, etc...       NaN   \n",
       "7           Other online resources (ex: videos, blogs, etc...         3   \n",
       "16                                    Other (please specify):         7   \n",
       "\n",
       "           YearsCodePro  ...                 Age             Gender Trans  \\\n",
       "Respondent               ...                                                \n",
       "6                   NaN  ...     18-24 years old  Prefer not to say    No   \n",
       "7                   NaN  ...   Prefer not to say  Prefer not to say    No   \n",
       "16                  NaN  ...  Under 18 years old                Man    No   \n",
       "\n",
       "                          Sexuality                     Ethnicity  \\\n",
       "Respondent                                                          \n",
       "6           Straight / Heterosexual             Prefer not to say   \n",
       "7                               NaN                  I don't know   \n",
       "16          Straight / Heterosexual  White or of European descent   \n",
       "\n",
       "                Accessibility  \\\n",
       "Respondent                      \n",
       "6           None of the above   \n",
       "7           None of the above   \n",
       "16          None of the above   \n",
       "\n",
       "                                                 MentalHealth  \\\n",
       "Respondent                                                      \n",
       "6           I have a concentration and/or memory disorder ...   \n",
       "7                                           None of the above   \n",
       "16          I have a concentration and/or memory disorder ...   \n",
       "\n",
       "                     SurveyLength                  SurveyEase Salary  \n",
       "Respondent                                                            \n",
       "6                        Too long  Neither easy nor difficult    NaN  \n",
       "7           Appropriate in length  Neither easy nor difficult    NaN  \n",
       "16                       Too long                        Easy    NaN  \n",
       "\n",
       "[3 rows x 47 columns]"
      ]
     },
     "execution_count": 43,
     "metadata": {},
     "output_type": "execute_result"
    }
   ],
   "source": [
    "country_group = df.groupby(['Country'])\n",
    "\n",
    "country_group.get_group('America').head(3)"
   ]
  },
  {
   "cell_type": "code",
   "execution_count": 49,
   "id": "37b1bc7b-e5c7-454b-982d-88fd9ff46957",
   "metadata": {},
   "outputs": [
    {
     "data": {
      "text/plain": [
       "America                                                 0.183224\n",
       "India                                                   0.125972\n",
       "Germany                                                 0.067415\n",
       "United Kingdom of Great Britain and Northern Ireland    0.053632\n",
       "Canada                                                  0.036098\n",
       "                                                          ...   \n",
       "Saint Kitts and Nevis                                   0.000012\n",
       "Dominica                                                0.000012\n",
       "Saint Vincent and the Grenadines                        0.000012\n",
       "Tuvalu                                                  0.000012\n",
       "Papua New Guinea                                        0.000012\n",
       "Name: Country, Length: 181, dtype: float64"
      ]
     },
     "execution_count": 49,
     "metadata": {},
     "output_type": "execute_result"
    }
   ],
   "source": [
    "df['Country'].value_counts(normalize = True)"
   ]
  },
  {
   "cell_type": "code",
   "execution_count": 52,
   "id": "1965ca35-a10e-4bd9-aada-173c96e13b62",
   "metadata": {},
   "outputs": [
    {
     "data": {
      "text/plain": [
       "Man                                                                                   1373\n",
       "Woman                                                                                   50\n",
       "Prefer not to say                                                                       15\n",
       "Or, in your own words:                                                                  12\n",
       "Non-binary, genderqueer, or gender non-conforming                                        6\n",
       "Man;Or, in your own words:                                                               5\n",
       "Man;Non-binary, genderqueer, or gender non-conforming                                    5\n",
       "Man;Woman;Non-binary, genderqueer, or gender non-conforming;Or, in your own words:       1\n",
       "Man;Woman                                                                                1\n",
       "Name: Gender, dtype: int64"
      ]
     },
     "execution_count": 52,
     "metadata": {},
     "output_type": "execute_result"
    }
   ],
   "source": [
    "df.loc[russia_filt]['Gender'].value_counts()"
   ]
  },
  {
   "cell_type": "code",
   "execution_count": 53,
   "id": "eebf7e26-ff9f-439f-92fd-4e9bf823fc14",
   "metadata": {},
   "outputs": [
    {
     "data": {
      "text/plain": [
       "Man                                                                                   0.935286\n",
       "Woman                                                                                 0.034060\n",
       "Prefer not to say                                                                     0.010218\n",
       "Or, in your own words:                                                                0.008174\n",
       "Non-binary, genderqueer, or gender non-conforming                                     0.004087\n",
       "Man;Or, in your own words:                                                            0.003406\n",
       "Man;Non-binary, genderqueer, or gender non-conforming                                 0.003406\n",
       "Man;Woman;Non-binary, genderqueer, or gender non-conforming;Or, in your own words:    0.000681\n",
       "Man;Woman                                                                             0.000681\n",
       "Name: Gender, dtype: float64"
      ]
     },
     "execution_count": 53,
     "metadata": {},
     "output_type": "execute_result"
    }
   ],
   "source": [
    "df[russia_filt]['Gender'].value_counts(normalize = True)"
   ]
  },
  {
   "cell_type": "code",
   "execution_count": 57,
   "id": "8503fc00-62ec-400f-9a92-de240b81cfde",
   "metadata": {},
   "outputs": [
    {
     "data": {
      "text/plain": [
       "Country      Gender                                                                            \n",
       "Afghanistan  Man                                                                                      36\n",
       "             Non-binary, genderqueer, or gender non-conforming                                         5\n",
       "             Or, in your own words:                                                                    5\n",
       "             Woman                                                                                     4\n",
       "             Prefer not to say                                                                         3\n",
       "             Man;Non-binary, genderqueer, or gender non-conforming                                     1\n",
       "             Man;Woman;Non-binary, genderqueer, or gender non-conforming;Or, in your own words:        1\n",
       "Albania      Man                                                                                      55\n",
       "             Woman                                                                                     8\n",
       "             Prefer not to say                                                                         5\n",
       "             Man;Woman;Non-binary, genderqueer, or gender non-conforming                               1\n",
       "             Non-binary, genderqueer, or gender non-conforming;Or, in your own words:                  1\n",
       "Algeria      Man                                                                                      38\n",
       "             Woman                                                                                     2\n",
       "             Man;Non-binary, genderqueer, or gender non-conforming                                     1\n",
       "             Man;Or, in your own words:                                                                1\n",
       "             Man;Woman;Non-binary, genderqueer, or gender non-conforming;Or, in your own words:        1\n",
       "             Non-binary, genderqueer, or gender non-conforming                                         1\n",
       "             Prefer not to say                                                                         1\n",
       "America      Man                                                                                   13185\n",
       "             Woman                                                                                   908\n",
       "             Prefer not to say                                                                       346\n",
       "             Non-binary, genderqueer, or gender non-conforming                                       217\n",
       "             Or, in your own words:                                                                   92\n",
       "             Man;Non-binary, genderqueer, or gender non-conforming                                    89\n",
       "Name: Gender, dtype: int64"
      ]
     },
     "execution_count": 57,
     "metadata": {},
     "output_type": "execute_result"
    }
   ],
   "source": [
    "country_group['Gender'].value_counts().head(25)"
   ]
  },
  {
   "cell_type": "code",
   "execution_count": 63,
   "id": "e6d0566d-8a27-46ce-84e0-1201576352b7",
   "metadata": {},
   "outputs": [
    {
     "data": {
      "text/plain": [
       "Gender\n",
       "Man                                                        873\n",
       "Prefer not to say                                           47\n",
       "Woman                                                       46\n",
       "Non-binary, genderqueer, or gender non-conforming           16\n",
       "Man;Non-binary, genderqueer, or gender non-conforming        6\n",
       "Man;Or, in your own words:                                   3\n",
       "Man;Woman                                                    2\n",
       "Or, in your own words:                                       2\n",
       "Woman;Non-binary, genderqueer, or gender non-conforming      1\n",
       "Name: Gender, dtype: int64"
      ]
     },
     "execution_count": 63,
     "metadata": {},
     "output_type": "execute_result"
    }
   ],
   "source": [
    "country_group['Gender'].value_counts().loc['China']"
   ]
  },
  {
   "cell_type": "code",
   "execution_count": 59,
   "id": "b8a1110a-02ec-4bc3-9bd6-69672bc5ec48",
   "metadata": {},
   "outputs": [
    {
     "data": {
      "text/plain": [
       "Respondent\n",
       "1    False\n",
       "2    False\n",
       "Name: Country, dtype: bool"
      ]
     },
     "execution_count": 59,
     "metadata": {},
     "output_type": "execute_result"
    }
   ],
   "source": [
    "prc_filt = df['Country'] == 'China'\n",
    "\n",
    "prc_filt.head(2)"
   ]
  },
  {
   "cell_type": "code",
   "execution_count": 62,
   "id": "87c43b1f-29e8-4ecd-a17d-9809861e8dcc",
   "metadata": {},
   "outputs": [
    {
     "data": {
      "text/plain": [
       "False    82384\n",
       "True      1055\n",
       "Name: Country, dtype: int64"
      ]
     },
     "execution_count": 62,
     "metadata": {},
     "output_type": "execute_result"
    }
   ],
   "source": [
    "prc_filt.value_counts()"
   ]
  },
  {
   "cell_type": "code",
   "execution_count": 67,
   "id": "5d406dbc-2518-4091-ac56-0490d9e94917",
   "metadata": {},
   "outputs": [
    {
     "data": {
      "text/plain": [
       "Employment\n",
       "Employed full-time                                      0.617871\n",
       "Student, full-time                                      0.214829\n",
       "Student, part-time                                      0.049430\n",
       "Independent contractor, freelancer, or self-employed    0.030418\n",
       "Not employed, but looking for work                      0.030418\n",
       "Employed part-time                                      0.022814\n",
       "Not employed, and not looking for work                  0.020913\n",
       "I prefer not to say                                     0.012357\n",
       "Retired                                                 0.000951\n",
       "Name: Employment, dtype: float64"
      ]
     },
     "execution_count": 67,
     "metadata": {},
     "output_type": "execute_result"
    }
   ],
   "source": [
    "country_group['Employment'].value_counts(normalize = True).loc['China']"
   ]
  },
  {
   "cell_type": "code",
   "execution_count": 73,
   "id": "2b10d0c7-e3da-408f-be97-f47c1d390a57",
   "metadata": {},
   "outputs": [
    {
     "data": {
      "text/plain": [
       "262993.89848024317"
      ]
     },
     "execution_count": 73,
     "metadata": {},
     "output_type": "execute_result"
    }
   ],
   "source": [
    "country_group['Salary'].mean().loc['China']"
   ]
  },
  {
   "cell_type": "code",
   "execution_count": 74,
   "id": "8bcaf80c-7c6a-4a64-b66f-a7db4b3d8726",
   "metadata": {},
   "outputs": [
    {
     "data": {
      "text/plain": [
       "median   34296.000\n",
       "mean     62562.910\n",
       "Name: China, dtype: float64"
      ]
     },
     "execution_count": 74,
     "metadata": {},
     "output_type": "execute_result"
    }
   ],
   "source": [
    "country_group['Salary'].agg(['median', 'mean']).loc['China']"
   ]
  },
  {
   "cell_type": "code",
   "execution_count": null,
   "id": "3137cdb3-f273-4f5f-92ca-9de7703c0607",
   "metadata": {},
   "outputs": [],
   "source": []
  }
 ],
 "metadata": {
  "kernelspec": {
   "display_name": "Python 3 (ipykernel)",
   "language": "python",
   "name": "python3"
  },
  "language_info": {
   "codemirror_mode": {
    "name": "ipython",
    "version": 3
   },
   "file_extension": ".py",
   "mimetype": "text/x-python",
   "name": "python",
   "nbconvert_exporter": "python",
   "pygments_lexer": "ipython3",
   "version": "3.9.13"
  }
 },
 "nbformat": 4,
 "nbformat_minor": 5
}
