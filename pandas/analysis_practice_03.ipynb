{
 "cells": [
  {
   "cell_type": "code",
   "execution_count": 1,
   "id": "243d6390-cba5-4119-aaab-46d3a70c7679",
   "metadata": {},
   "outputs": [],
   "source": [
    "import pandas as pd "
   ]
  },
  {
   "cell_type": "code",
   "execution_count": 3,
   "id": "75fe41a4-f3b1-4b93-9d64-f04c031b74af",
   "metadata": {},
   "outputs": [],
   "source": [
    "df = pd.read_csv(r'C:\\Users\\zacha\\Hyperborea\\csv files\\survey_results_public.csv')"
   ]
  },
  {
   "cell_type": "code",
   "execution_count": 4,
   "id": "c40c8891-5cd8-49cd-bb47-7907eef6864f",
   "metadata": {},
   "outputs": [],
   "source": [
    "pd.set_option('display.float_format', lambda x: '%.3f' % x)"
   ]
  },
  {
   "cell_type": "code",
   "execution_count": 12,
   "id": "3b6b2cc8-07b0-4d5c-9e03-8f7feab4ce65",
   "metadata": {},
   "outputs": [
    {
     "data": {
      "text/html": [
       "<div>\n",
       "<style scoped>\n",
       "    .dataframe tbody tr th:only-of-type {\n",
       "        vertical-align: middle;\n",
       "    }\n",
       "\n",
       "    .dataframe tbody tr th {\n",
       "        vertical-align: top;\n",
       "    }\n",
       "\n",
       "    .dataframe thead th {\n",
       "        text-align: right;\n",
       "    }\n",
       "</style>\n",
       "<table border=\"1\" class=\"dataframe\">\n",
       "  <thead>\n",
       "    <tr style=\"text-align: right;\">\n",
       "      <th></th>\n",
       "      <th>MainBranch</th>\n",
       "      <th>Employment</th>\n",
       "      <th>Country</th>\n",
       "      <th>US_State</th>\n",
       "      <th>UK_Country</th>\n",
       "      <th>EdLevel</th>\n",
       "      <th>Age1stCode</th>\n",
       "      <th>LearnCode</th>\n",
       "      <th>YearsCode</th>\n",
       "      <th>YearsCodePro</th>\n",
       "      <th>...</th>\n",
       "      <th>Age</th>\n",
       "      <th>Gender</th>\n",
       "      <th>Trans</th>\n",
       "      <th>Sexuality</th>\n",
       "      <th>Ethnicity</th>\n",
       "      <th>Accessibility</th>\n",
       "      <th>MentalHealth</th>\n",
       "      <th>SurveyLength</th>\n",
       "      <th>SurveyEase</th>\n",
       "      <th>Salary</th>\n",
       "    </tr>\n",
       "    <tr>\n",
       "      <th>Respondent</th>\n",
       "      <th></th>\n",
       "      <th></th>\n",
       "      <th></th>\n",
       "      <th></th>\n",
       "      <th></th>\n",
       "      <th></th>\n",
       "      <th></th>\n",
       "      <th></th>\n",
       "      <th></th>\n",
       "      <th></th>\n",
       "      <th></th>\n",
       "      <th></th>\n",
       "      <th></th>\n",
       "      <th></th>\n",
       "      <th></th>\n",
       "      <th></th>\n",
       "      <th></th>\n",
       "      <th></th>\n",
       "      <th></th>\n",
       "      <th></th>\n",
       "      <th></th>\n",
       "    </tr>\n",
       "  </thead>\n",
       "  <tbody>\n",
       "    <tr>\n",
       "      <th>1</th>\n",
       "      <td>I am a developer by profession</td>\n",
       "      <td>Independent contractor, freelancer, or self-em...</td>\n",
       "      <td>Slovakia</td>\n",
       "      <td>NaN</td>\n",
       "      <td>NaN</td>\n",
       "      <td>Secondary school (e.g. American high school, G...</td>\n",
       "      <td>18 - 24 years</td>\n",
       "      <td>Coding Bootcamp;Other online resources (ex: vi...</td>\n",
       "      <td>NaN</td>\n",
       "      <td>NaN</td>\n",
       "      <td>...</td>\n",
       "      <td>25-34 years old</td>\n",
       "      <td>Man</td>\n",
       "      <td>No</td>\n",
       "      <td>Straight / Heterosexual</td>\n",
       "      <td>White or of European descent</td>\n",
       "      <td>None of the above</td>\n",
       "      <td>None of the above</td>\n",
       "      <td>Appropriate in length</td>\n",
       "      <td>Easy</td>\n",
       "      <td>62268.000</td>\n",
       "    </tr>\n",
       "    <tr>\n",
       "      <th>2</th>\n",
       "      <td>I am a student who is learning to code</td>\n",
       "      <td>Student, full-time</td>\n",
       "      <td>Netherlands</td>\n",
       "      <td>NaN</td>\n",
       "      <td>NaN</td>\n",
       "      <td>Bachelor’s degree (B.A., B.S., B.Eng., etc.)</td>\n",
       "      <td>11 - 17 years</td>\n",
       "      <td>Other online resources (ex: videos, blogs, etc...</td>\n",
       "      <td>7</td>\n",
       "      <td>NaN</td>\n",
       "      <td>...</td>\n",
       "      <td>18-24 years old</td>\n",
       "      <td>Man</td>\n",
       "      <td>No</td>\n",
       "      <td>Straight / Heterosexual</td>\n",
       "      <td>White or of European descent</td>\n",
       "      <td>None of the above</td>\n",
       "      <td>None of the above</td>\n",
       "      <td>Appropriate in length</td>\n",
       "      <td>Easy</td>\n",
       "      <td>NaN</td>\n",
       "    </tr>\n",
       "    <tr>\n",
       "      <th>3</th>\n",
       "      <td>I am not primarily a developer, but I write co...</td>\n",
       "      <td>Student, full-time</td>\n",
       "      <td>Russian Federation</td>\n",
       "      <td>NaN</td>\n",
       "      <td>NaN</td>\n",
       "      <td>Bachelor’s degree (B.A., B.S., B.Eng., etc.)</td>\n",
       "      <td>11 - 17 years</td>\n",
       "      <td>Other online resources (ex: videos, blogs, etc...</td>\n",
       "      <td>NaN</td>\n",
       "      <td>NaN</td>\n",
       "      <td>...</td>\n",
       "      <td>18-24 years old</td>\n",
       "      <td>Man</td>\n",
       "      <td>No</td>\n",
       "      <td>Prefer not to say</td>\n",
       "      <td>Prefer not to say</td>\n",
       "      <td>None of the above</td>\n",
       "      <td>None of the above</td>\n",
       "      <td>Appropriate in length</td>\n",
       "      <td>Easy</td>\n",
       "      <td>NaN</td>\n",
       "    </tr>\n",
       "  </tbody>\n",
       "</table>\n",
       "<p>3 rows × 47 columns</p>\n",
       "</div>"
      ],
      "text/plain": [
       "                                                   MainBranch  \\\n",
       "Respondent                                                      \n",
       "1                              I am a developer by profession   \n",
       "2                      I am a student who is learning to code   \n",
       "3           I am not primarily a developer, but I write co...   \n",
       "\n",
       "                                                   Employment  \\\n",
       "Respondent                                                      \n",
       "1           Independent contractor, freelancer, or self-em...   \n",
       "2                                          Student, full-time   \n",
       "3                                          Student, full-time   \n",
       "\n",
       "                       Country US_State UK_Country  \\\n",
       "Respondent                                           \n",
       "1                     Slovakia      NaN        NaN   \n",
       "2                  Netherlands      NaN        NaN   \n",
       "3           Russian Federation      NaN        NaN   \n",
       "\n",
       "                                                      EdLevel     Age1stCode  \\\n",
       "Respondent                                                                     \n",
       "1           Secondary school (e.g. American high school, G...  18 - 24 years   \n",
       "2                Bachelor’s degree (B.A., B.S., B.Eng., etc.)  11 - 17 years   \n",
       "3                Bachelor’s degree (B.A., B.S., B.Eng., etc.)  11 - 17 years   \n",
       "\n",
       "                                                    LearnCode YearsCode  \\\n",
       "Respondent                                                                \n",
       "1           Coding Bootcamp;Other online resources (ex: vi...       NaN   \n",
       "2           Other online resources (ex: videos, blogs, etc...         7   \n",
       "3           Other online resources (ex: videos, blogs, etc...       NaN   \n",
       "\n",
       "           YearsCodePro  ...              Age Gender Trans  \\\n",
       "Respondent               ...                                 \n",
       "1                   NaN  ...  25-34 years old    Man    No   \n",
       "2                   NaN  ...  18-24 years old    Man    No   \n",
       "3                   NaN  ...  18-24 years old    Man    No   \n",
       "\n",
       "                          Sexuality                     Ethnicity  \\\n",
       "Respondent                                                          \n",
       "1           Straight / Heterosexual  White or of European descent   \n",
       "2           Straight / Heterosexual  White or of European descent   \n",
       "3                 Prefer not to say             Prefer not to say   \n",
       "\n",
       "                Accessibility       MentalHealth           SurveyLength  \\\n",
       "Respondent                                                                \n",
       "1           None of the above  None of the above  Appropriate in length   \n",
       "2           None of the above  None of the above  Appropriate in length   \n",
       "3           None of the above  None of the above  Appropriate in length   \n",
       "\n",
       "           SurveyEase    Salary  \n",
       "Respondent                       \n",
       "1                Easy 62268.000  \n",
       "2                Easy       NaN  \n",
       "3                Easy       NaN  \n",
       "\n",
       "[3 rows x 47 columns]"
      ]
     },
     "execution_count": 12,
     "metadata": {},
     "output_type": "execute_result"
    }
   ],
   "source": [
    "df.head(3)"
   ]
  },
  {
   "cell_type": "code",
   "execution_count": 9,
   "id": "ad3f466d-e36e-41ea-a97b-656e17c5b639",
   "metadata": {},
   "outputs": [],
   "source": [
    "df.rename(columns = {'ResponseId': 'Respondent', 'ConvertedCompYearly': \"Salary\"}, inplace = True)"
   ]
  },
  {
   "cell_type": "code",
   "execution_count": 11,
   "id": "59b49a17-4e38-413e-b502-8a050ec698ee",
   "metadata": {},
   "outputs": [],
   "source": [
    "df.set_index('Respondent', inplace = True)"
   ]
  },
  {
   "cell_type": "code",
   "execution_count": 13,
   "id": "858c3c9e-f8db-464a-9da7-0d184da2ec4a",
   "metadata": {},
   "outputs": [],
   "source": [
    "df['Country'] = df['Country'].replace(['United States of America'], 'America')"
   ]
  },
  {
   "cell_type": "code",
   "execution_count": 17,
   "id": "05328086-6046-4f20-b0ba-9dadb1904964",
   "metadata": {},
   "outputs": [
    {
     "data": {
      "text/plain": [
       "Respondent\n",
       "1    False\n",
       "2    False\n",
       "3    False\n",
       "Name: Country, dtype: bool"
      ]
     },
     "execution_count": 17,
     "metadata": {},
     "output_type": "execute_result"
    }
   ],
   "source": [
    "usa_filt = df['Country'] == 'America'\n",
    "\n",
    "usa_filt.head(3)"
   ]
  },
  {
   "cell_type": "code",
   "execution_count": 19,
   "id": "38548a2e-6f9a-43ec-860a-07c2ac571336",
   "metadata": {},
   "outputs": [
    {
     "data": {
      "text/html": [
       "<div>\n",
       "<style scoped>\n",
       "    .dataframe tbody tr th:only-of-type {\n",
       "        vertical-align: middle;\n",
       "    }\n",
       "\n",
       "    .dataframe tbody tr th {\n",
       "        vertical-align: top;\n",
       "    }\n",
       "\n",
       "    .dataframe thead th {\n",
       "        text-align: right;\n",
       "    }\n",
       "</style>\n",
       "<table border=\"1\" class=\"dataframe\">\n",
       "  <thead>\n",
       "    <tr style=\"text-align: right;\">\n",
       "      <th></th>\n",
       "      <th>MainBranch</th>\n",
       "      <th>Employment</th>\n",
       "      <th>Country</th>\n",
       "      <th>US_State</th>\n",
       "      <th>UK_Country</th>\n",
       "      <th>EdLevel</th>\n",
       "      <th>Age1stCode</th>\n",
       "      <th>LearnCode</th>\n",
       "      <th>YearsCode</th>\n",
       "      <th>YearsCodePro</th>\n",
       "      <th>...</th>\n",
       "      <th>Age</th>\n",
       "      <th>Gender</th>\n",
       "      <th>Trans</th>\n",
       "      <th>Sexuality</th>\n",
       "      <th>Ethnicity</th>\n",
       "      <th>Accessibility</th>\n",
       "      <th>MentalHealth</th>\n",
       "      <th>SurveyLength</th>\n",
       "      <th>SurveyEase</th>\n",
       "      <th>Salary</th>\n",
       "    </tr>\n",
       "    <tr>\n",
       "      <th>Respondent</th>\n",
       "      <th></th>\n",
       "      <th></th>\n",
       "      <th></th>\n",
       "      <th></th>\n",
       "      <th></th>\n",
       "      <th></th>\n",
       "      <th></th>\n",
       "      <th></th>\n",
       "      <th></th>\n",
       "      <th></th>\n",
       "      <th></th>\n",
       "      <th></th>\n",
       "      <th></th>\n",
       "      <th></th>\n",
       "      <th></th>\n",
       "      <th></th>\n",
       "      <th></th>\n",
       "      <th></th>\n",
       "      <th></th>\n",
       "      <th></th>\n",
       "      <th></th>\n",
       "    </tr>\n",
       "  </thead>\n",
       "  <tbody>\n",
       "    <tr>\n",
       "      <th>6</th>\n",
       "      <td>I am a student who is learning to code</td>\n",
       "      <td>Student, part-time</td>\n",
       "      <td>America</td>\n",
       "      <td>Georgia</td>\n",
       "      <td>NaN</td>\n",
       "      <td>Bachelor’s degree (B.A., B.S., B.Eng., etc.)</td>\n",
       "      <td>11 - 17 years</td>\n",
       "      <td>Other online resources (ex: videos, blogs, etc...</td>\n",
       "      <td>NaN</td>\n",
       "      <td>NaN</td>\n",
       "      <td>...</td>\n",
       "      <td>18-24 years old</td>\n",
       "      <td>Prefer not to say</td>\n",
       "      <td>No</td>\n",
       "      <td>Straight / Heterosexual</td>\n",
       "      <td>Prefer not to say</td>\n",
       "      <td>None of the above</td>\n",
       "      <td>I have a concentration and/or memory disorder ...</td>\n",
       "      <td>Too long</td>\n",
       "      <td>Neither easy nor difficult</td>\n",
       "      <td>NaN</td>\n",
       "    </tr>\n",
       "    <tr>\n",
       "      <th>7</th>\n",
       "      <td>I code primarily as a hobby</td>\n",
       "      <td>I prefer not to say</td>\n",
       "      <td>America</td>\n",
       "      <td>New Hampshire</td>\n",
       "      <td>NaN</td>\n",
       "      <td>Secondary school (e.g. American high school, G...</td>\n",
       "      <td>11 - 17 years</td>\n",
       "      <td>Other online resources (ex: videos, blogs, etc...</td>\n",
       "      <td>3</td>\n",
       "      <td>NaN</td>\n",
       "      <td>...</td>\n",
       "      <td>Prefer not to say</td>\n",
       "      <td>Prefer not to say</td>\n",
       "      <td>No</td>\n",
       "      <td>NaN</td>\n",
       "      <td>I don't know</td>\n",
       "      <td>None of the above</td>\n",
       "      <td>None of the above</td>\n",
       "      <td>Appropriate in length</td>\n",
       "      <td>Neither easy nor difficult</td>\n",
       "      <td>NaN</td>\n",
       "    </tr>\n",
       "    <tr>\n",
       "      <th>16</th>\n",
       "      <td>I am a student who is learning to code</td>\n",
       "      <td>Student, full-time</td>\n",
       "      <td>America</td>\n",
       "      <td>Missouri</td>\n",
       "      <td>NaN</td>\n",
       "      <td>Secondary school (e.g. American high school, G...</td>\n",
       "      <td>5 - 10 years</td>\n",
       "      <td>Other (please specify):</td>\n",
       "      <td>7</td>\n",
       "      <td>NaN</td>\n",
       "      <td>...</td>\n",
       "      <td>Under 18 years old</td>\n",
       "      <td>Man</td>\n",
       "      <td>No</td>\n",
       "      <td>Straight / Heterosexual</td>\n",
       "      <td>White or of European descent</td>\n",
       "      <td>None of the above</td>\n",
       "      <td>I have a concentration and/or memory disorder ...</td>\n",
       "      <td>Too long</td>\n",
       "      <td>Easy</td>\n",
       "      <td>NaN</td>\n",
       "    </tr>\n",
       "  </tbody>\n",
       "</table>\n",
       "<p>3 rows × 47 columns</p>\n",
       "</div>"
      ],
      "text/plain": [
       "                                        MainBranch           Employment  \\\n",
       "Respondent                                                                \n",
       "6           I am a student who is learning to code   Student, part-time   \n",
       "7                      I code primarily as a hobby  I prefer not to say   \n",
       "16          I am a student who is learning to code   Student, full-time   \n",
       "\n",
       "            Country       US_State UK_Country  \\\n",
       "Respondent                                      \n",
       "6           America        Georgia        NaN   \n",
       "7           America  New Hampshire        NaN   \n",
       "16          America       Missouri        NaN   \n",
       "\n",
       "                                                      EdLevel     Age1stCode  \\\n",
       "Respondent                                                                     \n",
       "6                Bachelor’s degree (B.A., B.S., B.Eng., etc.)  11 - 17 years   \n",
       "7           Secondary school (e.g. American high school, G...  11 - 17 years   \n",
       "16          Secondary school (e.g. American high school, G...   5 - 10 years   \n",
       "\n",
       "                                                    LearnCode YearsCode  \\\n",
       "Respondent                                                                \n",
       "6           Other online resources (ex: videos, blogs, etc...       NaN   \n",
       "7           Other online resources (ex: videos, blogs, etc...         3   \n",
       "16                                    Other (please specify):         7   \n",
       "\n",
       "           YearsCodePro  ...                 Age             Gender Trans  \\\n",
       "Respondent               ...                                                \n",
       "6                   NaN  ...     18-24 years old  Prefer not to say    No   \n",
       "7                   NaN  ...   Prefer not to say  Prefer not to say    No   \n",
       "16                  NaN  ...  Under 18 years old                Man    No   \n",
       "\n",
       "                          Sexuality                     Ethnicity  \\\n",
       "Respondent                                                          \n",
       "6           Straight / Heterosexual             Prefer not to say   \n",
       "7                               NaN                  I don't know   \n",
       "16          Straight / Heterosexual  White or of European descent   \n",
       "\n",
       "                Accessibility  \\\n",
       "Respondent                      \n",
       "6           None of the above   \n",
       "7           None of the above   \n",
       "16          None of the above   \n",
       "\n",
       "                                                 MentalHealth  \\\n",
       "Respondent                                                      \n",
       "6           I have a concentration and/or memory disorder ...   \n",
       "7                                           None of the above   \n",
       "16          I have a concentration and/or memory disorder ...   \n",
       "\n",
       "                     SurveyLength                  SurveyEase Salary  \n",
       "Respondent                                                            \n",
       "6                        Too long  Neither easy nor difficult    NaN  \n",
       "7           Appropriate in length  Neither easy nor difficult    NaN  \n",
       "16                       Too long                        Easy    NaN  \n",
       "\n",
       "[3 rows x 47 columns]"
      ]
     },
     "execution_count": 19,
     "metadata": {},
     "output_type": "execute_result"
    }
   ],
   "source": [
    "df.loc[usa_filt].head(3)"
   ]
  },
  {
   "cell_type": "code",
   "execution_count": 20,
   "id": "8ce81fe9-49c8-4041-86b2-36b3b5378016",
   "metadata": {},
   "outputs": [
    {
     "name": "stderr",
     "output_type": "stream",
     "text": [
      "C:\\Users\\zacha\\AppData\\Local\\Temp\\ipykernel_15404\\3717892746.py:1: FutureWarning: Dropping of nuisance columns in DataFrame reductions (with 'numeric_only=None') is deprecated; in a future version this will raise TypeError.  Select only valid columns before calling the reduction.\n",
      "  df.loc[usa_filt].mean()\n"
     ]
    },
    {
     "data": {
      "text/plain": [
       "UK_Country                                        NaN\n",
       "CompTotal    704154511628609670759779219695206400.000\n",
       "Salary                                     262993.898\n",
       "dtype: float64"
      ]
     },
     "execution_count": 20,
     "metadata": {},
     "output_type": "execute_result"
    }
   ],
   "source": [
    "df.loc[usa_filt].mean()"
   ]
  },
  {
   "cell_type": "code",
   "execution_count": 21,
   "id": "cf6b0063-07bf-4340-97ac-7d1c2a47a703",
   "metadata": {},
   "outputs": [],
   "source": [
    "df['Country'] = df['Country'].replace(['Russian Federation'], 'Russia')"
   ]
  },
  {
   "cell_type": "code",
   "execution_count": 23,
   "id": "6beefb83-578e-451a-8107-21b2caee18d4",
   "metadata": {},
   "outputs": [
    {
     "data": {
      "text/plain": [
       "Respondent\n",
       "1    False\n",
       "2    False\n",
       "3     True\n",
       "Name: Country, dtype: bool"
      ]
     },
     "execution_count": 23,
     "metadata": {},
     "output_type": "execute_result"
    }
   ],
   "source": [
    "russia_filt = df['Country'] == 'Russia'\n",
    "\n",
    "russia_filt.head(3)"
   ]
  },
  {
   "cell_type": "code",
   "execution_count": 28,
   "id": "3c97bd6a-5f95-4383-b459-1254678a82e6",
   "metadata": {},
   "outputs": [
    {
     "data": {
      "text/plain": [
       "America   1.000\n",
       "Name: Country, dtype: float64"
      ]
     },
     "execution_count": 28,
     "metadata": {},
     "output_type": "execute_result"
    }
   ],
   "source": [
    "df['Country'][usa_filt].value_counts(normalize = True)"
   ]
  },
  {
   "cell_type": "code",
   "execution_count": 29,
   "id": "41956f2a-d477-4974-8167-8bd99b715281",
   "metadata": {},
   "outputs": [
    {
     "data": {
      "text/plain": [
       "Respondent\n",
       "1    False\n",
       "2    False\n",
       "3    False\n",
       "Name: Country, dtype: bool"
      ]
     },
     "execution_count": 29,
     "metadata": {},
     "output_type": "execute_result"
    }
   ],
   "source": [
    "prc_filt = df['Country'] == 'China'\n",
    "\n",
    "prc_filt.head(3)"
   ]
  },
  {
   "cell_type": "code",
   "execution_count": 30,
   "id": "fc8d0c27-decf-4548-9a91-09806deb9b62",
   "metadata": {},
   "outputs": [
    {
     "data": {
      "text/plain": [
       "62562.90969899666"
      ]
     },
     "execution_count": 30,
     "metadata": {},
     "output_type": "execute_result"
    }
   ],
   "source": [
    "df[prc_filt]['Salary'].mean()"
   ]
  },
  {
   "cell_type": "code",
   "execution_count": 31,
   "id": "0a82bc8e-eefb-41e8-9f0c-63827675cf9b",
   "metadata": {},
   "outputs": [
    {
     "data": {
      "text/plain": [
       "Man                                                        873\n",
       "Prefer not to say                                           47\n",
       "Woman                                                       46\n",
       "Non-binary, genderqueer, or gender non-conforming           16\n",
       "Man;Non-binary, genderqueer, or gender non-conforming        6\n",
       "Man;Or, in your own words:                                   3\n",
       "Or, in your own words:                                       2\n",
       "Man;Woman                                                    2\n",
       "Woman;Non-binary, genderqueer, or gender non-conforming      1\n",
       "Name: Gender, dtype: int64"
      ]
     },
     "execution_count": 31,
     "metadata": {},
     "output_type": "execute_result"
    }
   ],
   "source": [
    "df[prc_filt]['Gender'].value_counts()"
   ]
  },
  {
   "cell_type": "code",
   "execution_count": 33,
   "id": "e04979a6-e478-41de-bed0-20e7d813bd46",
   "metadata": {},
   "outputs": [
    {
     "data": {
      "text/plain": [
       "Employed full-time                                     0.618\n",
       "Student, full-time                                     0.215\n",
       "Student, part-time                                     0.049\n",
       "Not employed, but looking for work                     0.030\n",
       "Independent contractor, freelancer, or self-employed   0.030\n",
       "Employed part-time                                     0.023\n",
       "Not employed, and not looking for work                 0.021\n",
       "I prefer not to say                                    0.012\n",
       "Retired                                                0.001\n",
       "Name: Employment, dtype: float64"
      ]
     },
     "execution_count": 33,
     "metadata": {},
     "output_type": "execute_result"
    }
   ],
   "source": [
    "df[prc_filt]['Employment'].value_counts(normalize = True)"
   ]
  },
  {
   "cell_type": "code",
   "execution_count": 39,
   "id": "6988098c-ae29-40b6-9624-f0f872de5e44",
   "metadata": {},
   "outputs": [
    {
     "data": {
      "text/html": [
       "<div>\n",
       "<style scoped>\n",
       "    .dataframe tbody tr th:only-of-type {\n",
       "        vertical-align: middle;\n",
       "    }\n",
       "\n",
       "    .dataframe tbody tr th {\n",
       "        vertical-align: top;\n",
       "    }\n",
       "\n",
       "    .dataframe thead th {\n",
       "        text-align: right;\n",
       "    }\n",
       "</style>\n",
       "<table border=\"1\" class=\"dataframe\">\n",
       "  <thead>\n",
       "    <tr style=\"text-align: right;\">\n",
       "      <th></th>\n",
       "      <th>MainBranch</th>\n",
       "      <th>Employment</th>\n",
       "      <th>Country</th>\n",
       "      <th>US_State</th>\n",
       "      <th>UK_Country</th>\n",
       "      <th>EdLevel</th>\n",
       "      <th>Age1stCode</th>\n",
       "      <th>LearnCode</th>\n",
       "      <th>YearsCode</th>\n",
       "      <th>YearsCodePro</th>\n",
       "      <th>...</th>\n",
       "      <th>Age</th>\n",
       "      <th>Gender</th>\n",
       "      <th>Trans</th>\n",
       "      <th>Sexuality</th>\n",
       "      <th>Ethnicity</th>\n",
       "      <th>Accessibility</th>\n",
       "      <th>MentalHealth</th>\n",
       "      <th>SurveyLength</th>\n",
       "      <th>SurveyEase</th>\n",
       "      <th>Salary</th>\n",
       "    </tr>\n",
       "    <tr>\n",
       "      <th>Respondent</th>\n",
       "      <th></th>\n",
       "      <th></th>\n",
       "      <th></th>\n",
       "      <th></th>\n",
       "      <th></th>\n",
       "      <th></th>\n",
       "      <th></th>\n",
       "      <th></th>\n",
       "      <th></th>\n",
       "      <th></th>\n",
       "      <th></th>\n",
       "      <th></th>\n",
       "      <th></th>\n",
       "      <th></th>\n",
       "      <th></th>\n",
       "      <th></th>\n",
       "      <th></th>\n",
       "      <th></th>\n",
       "      <th></th>\n",
       "      <th></th>\n",
       "      <th></th>\n",
       "    </tr>\n",
       "  </thead>\n",
       "  <tbody>\n",
       "    <tr>\n",
       "      <th>552</th>\n",
       "      <td>I am a student who is learning to code</td>\n",
       "      <td>Student, full-time</td>\n",
       "      <td>China</td>\n",
       "      <td>NaN</td>\n",
       "      <td>NaN</td>\n",
       "      <td>Bachelor’s degree (B.A., B.S., B.Eng., etc.)</td>\n",
       "      <td>18 - 24 years</td>\n",
       "      <td>Coding Bootcamp;Other online resources (ex: vi...</td>\n",
       "      <td>2</td>\n",
       "      <td>NaN</td>\n",
       "      <td>...</td>\n",
       "      <td>18-24 years old</td>\n",
       "      <td>Man</td>\n",
       "      <td>No</td>\n",
       "      <td>Straight / Heterosexual</td>\n",
       "      <td>East Asian</td>\n",
       "      <td>None of the above</td>\n",
       "      <td>None of the above</td>\n",
       "      <td>Appropriate in length</td>\n",
       "      <td>Neither easy nor difficult</td>\n",
       "      <td>NaN</td>\n",
       "    </tr>\n",
       "    <tr>\n",
       "      <th>1033</th>\n",
       "      <td>I am a developer by profession</td>\n",
       "      <td>Employed full-time</td>\n",
       "      <td>China</td>\n",
       "      <td>NaN</td>\n",
       "      <td>NaN</td>\n",
       "      <td>Bachelor’s degree (B.A., B.S., B.Eng., etc.)</td>\n",
       "      <td>11 - 17 years</td>\n",
       "      <td>Other (please specify):;Colleague</td>\n",
       "      <td>16</td>\n",
       "      <td>12</td>\n",
       "      <td>...</td>\n",
       "      <td>25-34 years old</td>\n",
       "      <td>Man</td>\n",
       "      <td>No</td>\n",
       "      <td>Straight / Heterosexual</td>\n",
       "      <td>East Asian</td>\n",
       "      <td>None of the above</td>\n",
       "      <td>None of the above</td>\n",
       "      <td>Appropriate in length</td>\n",
       "      <td>Easy</td>\n",
       "      <td>71446.000</td>\n",
       "    </tr>\n",
       "    <tr>\n",
       "      <th>1452</th>\n",
       "      <td>I am not primarily a developer, but I write co...</td>\n",
       "      <td>Employed full-time</td>\n",
       "      <td>China</td>\n",
       "      <td>NaN</td>\n",
       "      <td>NaN</td>\n",
       "      <td>Bachelor’s degree (B.A., B.S., B.Eng., etc.)</td>\n",
       "      <td>11 - 17 years</td>\n",
       "      <td>School</td>\n",
       "      <td>10</td>\n",
       "      <td>8</td>\n",
       "      <td>...</td>\n",
       "      <td>25-34 years old</td>\n",
       "      <td>Man</td>\n",
       "      <td>No</td>\n",
       "      <td>Straight / Heterosexual</td>\n",
       "      <td>East Asian</td>\n",
       "      <td>None of the above</td>\n",
       "      <td>None of the above</td>\n",
       "      <td>Too long</td>\n",
       "      <td>Neither easy nor difficult</td>\n",
       "      <td>29148.000</td>\n",
       "    </tr>\n",
       "  </tbody>\n",
       "</table>\n",
       "<p>3 rows × 47 columns</p>\n",
       "</div>"
      ],
      "text/plain": [
       "                                                   MainBranch  \\\n",
       "Respondent                                                      \n",
       "552                    I am a student who is learning to code   \n",
       "1033                           I am a developer by profession   \n",
       "1452        I am not primarily a developer, but I write co...   \n",
       "\n",
       "                    Employment Country US_State UK_Country  \\\n",
       "Respondent                                                   \n",
       "552         Student, full-time   China      NaN        NaN   \n",
       "1033        Employed full-time   China      NaN        NaN   \n",
       "1452        Employed full-time   China      NaN        NaN   \n",
       "\n",
       "                                                 EdLevel     Age1stCode  \\\n",
       "Respondent                                                                \n",
       "552         Bachelor’s degree (B.A., B.S., B.Eng., etc.)  18 - 24 years   \n",
       "1033        Bachelor’s degree (B.A., B.S., B.Eng., etc.)  11 - 17 years   \n",
       "1452        Bachelor’s degree (B.A., B.S., B.Eng., etc.)  11 - 17 years   \n",
       "\n",
       "                                                    LearnCode YearsCode  \\\n",
       "Respondent                                                                \n",
       "552         Coding Bootcamp;Other online resources (ex: vi...         2   \n",
       "1033                        Other (please specify):;Colleague        16   \n",
       "1452                                                   School        10   \n",
       "\n",
       "           YearsCodePro  ...              Age Gender Trans  \\\n",
       "Respondent               ...                                 \n",
       "552                 NaN  ...  18-24 years old    Man    No   \n",
       "1033                 12  ...  25-34 years old    Man    No   \n",
       "1452                  8  ...  25-34 years old    Man    No   \n",
       "\n",
       "                          Sexuality   Ethnicity      Accessibility  \\\n",
       "Respondent                                                           \n",
       "552         Straight / Heterosexual  East Asian  None of the above   \n",
       "1033        Straight / Heterosexual  East Asian  None of the above   \n",
       "1452        Straight / Heterosexual  East Asian  None of the above   \n",
       "\n",
       "                 MentalHealth           SurveyLength  \\\n",
       "Respondent                                             \n",
       "552         None of the above  Appropriate in length   \n",
       "1033        None of the above  Appropriate in length   \n",
       "1452        None of the above               Too long   \n",
       "\n",
       "                            SurveyEase    Salary  \n",
       "Respondent                                        \n",
       "552         Neither easy nor difficult       NaN  \n",
       "1033                              Easy 71446.000  \n",
       "1452        Neither easy nor difficult 29148.000  \n",
       "\n",
       "[3 rows x 47 columns]"
      ]
     },
     "execution_count": 39,
     "metadata": {},
     "output_type": "execute_result"
    }
   ],
   "source": [
    "country_group = df.groupby('Country')\n",
    "\n",
    "country_group.get_group('China').head(3)"
   ]
  },
  {
   "cell_type": "code",
   "execution_count": 49,
   "id": "d082c34f-c518-4f70-a2dd-0742eb1c0cd4",
   "metadata": {},
   "outputs": [
    {
     "data": {
      "text/plain": [
       "Gender\n",
       "Man                                                       0.877\n",
       "Prefer not to say                                         0.047\n",
       "Woman                                                     0.046\n",
       "Non-binary, genderqueer, or gender non-conforming         0.016\n",
       "Man;Non-binary, genderqueer, or gender non-conforming     0.006\n",
       "Man;Or, in your own words:                                0.003\n",
       "Man;Woman                                                 0.002\n",
       "Or, in your own words:                                    0.002\n",
       "Woman;Non-binary, genderqueer, or gender non-conforming   0.001\n",
       "Name: Gender, dtype: float64"
      ]
     },
     "execution_count": 49,
     "metadata": {},
     "output_type": "execute_result"
    }
   ],
   "source": [
    "country_group['Gender'].value_counts(normalize = True).loc['China']"
   ]
  },
  {
   "cell_type": "code",
   "execution_count": 51,
   "id": "74a4f64c-7b21-4c48-9e55-c5706a45404d",
   "metadata": {},
   "outputs": [
    {
     "data": {
      "text/plain": [
       "median   125000.000\n",
       "mean     262993.898\n",
       "Name: America, dtype: float64"
      ]
     },
     "execution_count": 51,
     "metadata": {},
     "output_type": "execute_result"
    }
   ],
   "source": [
    "country_group['Salary'].agg(['median', 'mean']).loc['America']"
   ]
  },
  {
   "cell_type": "code",
   "execution_count": 52,
   "id": "dbb11186-64d9-4744-936c-180e44fb9e67",
   "metadata": {},
   "outputs": [
    {
     "data": {
      "text/plain": [
       "Country\n",
       "Afghanistan                                38\n",
       "Albania                                    56\n",
       "Algeria                                    41\n",
       "America                                 13337\n",
       "Andorra                                     8\n",
       "                                        ...  \n",
       "Venezuela, Bolivarian Republic of...       99\n",
       "Viet Nam                                  351\n",
       "Yemen                                      18\n",
       "Zambia                                     21\n",
       "Zimbabwe                                   33\n",
       "Name: Gender, Length: 181, dtype: int64"
      ]
     },
     "execution_count": 52,
     "metadata": {},
     "output_type": "execute_result"
    }
   ],
   "source": [
    "country_group['Gender'].apply(lambda x: x.str.contains('Man').sum())"
   ]
  },
  {
   "cell_type": "code",
   "execution_count": 53,
   "id": "707dc33c-48c5-402a-a876-5386fea6da0e",
   "metadata": {},
   "outputs": [
    {
     "data": {
      "text/plain": [
       "Country\n",
       "Afghanistan                               13\n",
       "Albania                                    7\n",
       "Algeria                                    8\n",
       "America                                 1829\n",
       "Andorra                                    1\n",
       "                                        ... \n",
       "Venezuela, Bolivarian Republic of...      13\n",
       "Viet Nam                                  88\n",
       "Yemen                                      4\n",
       "Zambia                                     5\n",
       "Zimbabwe                                   7\n",
       "Name: Employment, Length: 181, dtype: int64"
      ]
     },
     "execution_count": 53,
     "metadata": {},
     "output_type": "execute_result"
    }
   ],
   "source": [
    "country_group['Employment'].apply(lambda x: x.str.contains('Student').sum())"
   ]
  },
  {
   "cell_type": "code",
   "execution_count": 54,
   "id": "4deaf7fa-0ce2-43b8-ab00-bc066ffd3b9c",
   "metadata": {},
   "outputs": [
    {
     "data": {
      "text/plain": [
       "Employed full-time                                      11214\n",
       "Student, full-time                                       1689\n",
       "Independent contractor, freelancer, or self-employed      976\n",
       "Not employed, but looking for work                        425\n",
       "Employed part-time                                        263\n",
       "Not employed, and not looking for work                    244\n",
       "I prefer not to say                                       185\n",
       "Student, part-time                                        140\n",
       "Retired                                                   130\n",
       "Name: Employment, dtype: int64"
      ]
     },
     "execution_count": 54,
     "metadata": {},
     "output_type": "execute_result"
    }
   ],
   "source": [
    "df[usa_filt]['Employment'].value_counts()"
   ]
  },
  {
   "cell_type": "code",
   "execution_count": 55,
   "id": "154930de-e08b-4a8c-b8da-cefe70fe57dd",
   "metadata": {},
   "outputs": [
    {
     "data": {
      "text/plain": [
       "Employed full-time                                     0.735\n",
       "Student, full-time                                     0.111\n",
       "Independent contractor, freelancer, or self-employed   0.064\n",
       "Not employed, but looking for work                     0.028\n",
       "Employed part-time                                     0.017\n",
       "Not employed, and not looking for work                 0.016\n",
       "I prefer not to say                                    0.012\n",
       "Student, part-time                                     0.009\n",
       "Retired                                                0.009\n",
       "Name: Employment, dtype: float64"
      ]
     },
     "execution_count": 55,
     "metadata": {},
     "output_type": "execute_result"
    }
   ],
   "source": [
    "df[usa_filt]['Employment'].value_counts(normalize = True)"
   ]
  },
  {
   "cell_type": "code",
   "execution_count": null,
   "id": "e98c6166-a749-419b-97a4-87c422e0dd06",
   "metadata": {},
   "outputs": [],
   "source": []
  }
 ],
 "metadata": {
  "kernelspec": {
   "display_name": "Python 3 (ipykernel)",
   "language": "python",
   "name": "python3"
  },
  "language_info": {
   "codemirror_mode": {
    "name": "ipython",
    "version": 3
   },
   "file_extension": ".py",
   "mimetype": "text/x-python",
   "name": "python",
   "nbconvert_exporter": "python",
   "pygments_lexer": "ipython3",
   "version": "3.9.13"
  }
 },
 "nbformat": 4,
 "nbformat_minor": 5
}
