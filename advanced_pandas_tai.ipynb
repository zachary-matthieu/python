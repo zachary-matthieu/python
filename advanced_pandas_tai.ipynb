{
 "cells": [
  {
   "cell_type": "code",
   "execution_count": 1,
   "id": "1a56ed4c-daf3-4cd5-9a30-b52247eb70ea",
   "metadata": {},
   "outputs": [
    {
     "name": "stdout",
     "output_type": "stream",
     "text": [
      "Category\n",
      "Clothing       1000\n",
      "Electronics    1800\n",
      "Name: Sales, dtype: int64\n"
     ]
    }
   ],
   "source": [
    "# GroupBy\n",
    "\n",
    "import pandas as pd\n",
    "\n",
    "# Sample DataFrame \n",
    "data = {'Category': ['Electronics', 'Clothing', 'Electronics', 'Clothing'],\n",
    "        'Sales': [1000, 500, 800, 500]}\n",
    "df = pd.DataFrame(data)\n",
    "\n",
    "# Grouping by Column \n",
    "grouped_data = df.groupby('Category')\n",
    "\n",
    "# Column by Column Grouping \n",
    "total_sales = grouped_data['Sales'].sum()\n",
    "\n",
    "print(total_sales)"
   ]
  },
  {
   "cell_type": "code",
   "execution_count": 2,
   "id": "c9377732-9e02-43de-b3c8-0df5475fed2b",
   "metadata": {},
   "outputs": [
    {
     "name": "stdout",
     "output_type": "stream",
     "text": [
      "Class  Gender\n",
      "A      Female    78.0\n",
      "       Male      87.5\n",
      "B      Female    87.5\n",
      "       Male      92.0\n",
      "Name: Math_Score, dtype: float64\n"
     ]
    }
   ],
   "source": [
    "# Sample DataFrame\n",
    "data = {'Class': ['A', 'B', 'A', 'B', 'A', 'B'],\n",
    "        'Gender': ['Male', 'Male', 'Female', 'Female', 'Male', 'Female'],\n",
    "        'Math_Score': [85, 92, 78, 89, 90, 86],\n",
    "        'English_Score': [88, 94, 80, 92, 92, 88]}\n",
    "df = pd.DataFrame(data)\n",
    "\n",
    "# Multi-Column Grouping \n",
    "grouped_data = df.groupby(['Class', 'Gender'])\n",
    "\n",
    "# Groupings Averaged\n",
    "agg_results = grouped_data['Math_Score'].mean()\n",
    "\n",
    "print(agg_results)"
   ]
  },
  {
   "cell_type": "code",
   "execution_count": 3,
   "id": "3fb71a34-fdf7-4758-af65-606125cb1e0a",
   "metadata": {},
   "outputs": [
    {
     "name": "stdout",
     "output_type": "stream",
     "text": [
      "              Math_Score  English_Score\n",
      "Class Gender                           \n",
      "A     Female        78.0           80.0\n",
      "      Male          87.5           90.0\n",
      "B     Female        87.5           90.0\n",
      "      Male          92.0           94.0\n"
     ]
    }
   ],
   "source": [
    "# All Groupings Averaged\n",
    "\n",
    "grouped_data = df.groupby(['Class', 'Gender'])\n",
    "\n",
    "# Applies Mean to All Columns\n",
    "aggregated_data = grouped_data.mean()\n",
    "\n",
    "print(aggregated_data)"
   ]
  },
  {
   "cell_type": "code",
   "execution_count": 4,
   "id": "5fcee4d3-0238-4b7a-8b1f-47c68f646b33",
   "metadata": {},
   "outputs": [
    {
     "name": "stdout",
     "output_type": "stream",
     "text": [
      "              mean  min  max\n",
      "Class Gender                \n",
      "A     Female  78.0   78   78\n",
      "      Male    87.5   85   90\n",
      "B     Female  87.5   86   89\n",
      "      Male    92.0   92   92\n"
     ]
    }
   ],
   "source": [
    "# Muti Agg \n",
    "\n",
    "data = {'Class': ['A', 'B', 'A', 'B', 'A', 'B'],\n",
    "        'Gender': ['Male', 'Male', 'Female', 'Female', 'Male', 'Female'],\n",
    "        'Math_Score': [85, 92, 78, 89, 90, 86],\n",
    "        'English_Score': [88, 94, 80, 92, 92, 88],\n",
    "        'Physics_Score': [78, 90, 85, 92, 88, 84]}\n",
    "df = pd.DataFrame(data)\n",
    "\n",
    "grouped_data = df.groupby(['Class', 'Gender'])\n",
    "\n",
    "# Multi Agg\n",
    "agg_results = grouped_data.Math_Score.agg(['mean', 'min', 'max'])\n",
    "\n",
    "print(agg_results)"
   ]
  },
  {
   "cell_type": "code",
   "execution_count": 9,
   "id": "ffdaaf85-bdc7-46d9-9e29-b6f131a90b61",
   "metadata": {},
   "outputs": [
    {
     "name": "stdout",
     "output_type": "stream",
     "text": [
      "             Math_Score         Physics_Score        \n",
      "                   mean min max          mean min max\n",
      "Class Gender                                         \n",
      "A     Female       78.0  78  78          85.0  85  85\n",
      "      Male         87.5  85  90          83.0  78  88\n",
      "B     Female       87.5  86  89          88.0  84  92\n",
      "      Male         92.0  92  92          90.0  90  90\n"
     ]
    }
   ],
   "source": [
    "# Multi Agg for Columns\n",
    "aggregated_data = grouped_data.agg({\n",
    "    'Math_Score': ['mean', 'min', 'max'],\n",
    "    'Physics_Score': ['mean', 'min', 'max']})\n",
    "\n",
    "print(aggregated_data)"
   ]
  },
  {
   "cell_type": "code",
   "execution_count": 16,
   "id": "dd81c9f8-897e-4986-890f-d6fb312858f2",
   "metadata": {},
   "outputs": [
    {
     "name": "stdout",
     "output_type": "stream",
     "text": [
      "Pivot Table:\n",
      "Region        North   South\n",
      "Category                   \n",
      "Clothing        NaN  1250.0\n",
      "Electronics  1800.0     NaN\n"
     ]
    }
   ],
   "source": [
    "# Sample DataFrame \n",
    "data = {'Category': ['Electronics', 'Clothing', 'Electronics', 'Clothing'],\n",
    "        'Region': ['North', 'South', 'North', 'South'],\n",
    "        'Sales': [1000, 500, 800, 750],\n",
    "        'Profit': [150, 50, 120, 100]}\n",
    "df = pd.DataFrame(data)\n",
    "\n",
    "# Pivot Table: Sum of Sales by Category and Region\n",
    "pivot_table = pd.pivot_table(df, index = 'Category', columns = 'Region', values = 'Sales', aggfunc ='sum')\n",
    "\n",
    "# Name Pivot Table\n",
    "print(\"Pivot Table:\")\n",
    "print(pivot_table)"
   ]
  },
  {
   "cell_type": "code",
   "execution_count": 12,
   "id": "c2d2e053-b8de-4b01-a897-8a42856fd662",
   "metadata": {},
   "outputs": [
    {
     "name": "stdout",
     "output_type": "stream",
     "text": [
      "\n",
      "Cross-Tabulation:\n",
      "Region       North  South\n",
      "Category                 \n",
      "Clothing         0      2\n",
      "Electronics      2      0\n"
     ]
    }
   ],
   "source": [
    "# Cross-Tabulation: Count of Category by Region\n",
    "cross_tab = pd.crosstab(df['Category'], df['Region'])\n",
    "\n",
    "print(\"\\nCross-Tabulation:\")\n",
    "print(cross_tab)"
   ]
  },
  {
   "cell_type": "code",
   "execution_count": 13,
   "id": "b5690112-a3bb-4737-b0cf-44e40489ff17",
   "metadata": {},
   "outputs": [
    {
     "name": "stdout",
     "output_type": "stream",
     "text": [
      "             DateTime  Year  Month  Day  Hour\n",
      "0 2023-01-01 08:30:00  2023      1    1     8\n",
      "1 2023-02-01 14:45:00  2023      2    1    14\n",
      "2 2023-03-01 20:15:00  2023      3    1    20\n"
     ]
    }
   ],
   "source": [
    "# DateTime Conversion \n",
    "\n",
    "# Sample DataFrame with a DateTime column\n",
    "data = {'DateTime': ['2023-01-01 08:30:00', '2023-02-01 14:45:00', '2023-03-01 20:15:00']}\n",
    "df = pd.DataFrame(data)\n",
    "\n",
    "# Convert the 'DateTime' column to DateTime\n",
    "df['DateTime'] = pd.to_datetime(df['DateTime'])\n",
    "\n",
    "# Extract year, month, day, and hour\n",
    "df['Year'] = df['DateTime'].dt.year\n",
    "df['Month'] = df['DateTime'].dt.month\n",
    "df['Day'] = df['DateTime'].dt.day\n",
    "df['Hour'] = df['DateTime'].dt.hour\n",
    "\n",
    "print(df)"
   ]
  },
  {
   "cell_type": "code",
   "execution_count": 17,
   "id": "d9702199-40a4-43a7-902c-f7bbab96e840",
   "metadata": {},
   "outputs": [
    {
     "name": "stdout",
     "output_type": "stream",
     "text": [
      "            Sales\n",
      "Date             \n",
      "2023-01-31    465\n",
      "2023-02-28    315\n"
     ]
    }
   ],
   "source": [
    "# Sample DataFrame with daily sales data\n",
    "data = {'Date': pd.date_range(start='2023-01-01', periods = 40, freq ='D'),\n",
    "        'Sales': [i for i in range(40)]}\n",
    "df = pd.DataFrame(data)\n",
    "\n",
    "# Resample Monthly Frequency\n",
    "monthly_sales = df.resample('M', on ='Date').sum()\n",
    "\n",
    "print(monthly_sales)"
   ]
  },
  {
   "cell_type": "code",
   "execution_count": 18,
   "id": "6f6b0252-324d-4c57-9286-6cb88827de80",
   "metadata": {},
   "outputs": [
    {
     "data": {
      "text/html": [
       "<div>\n",
       "<style scoped>\n",
       "    .dataframe tbody tr th:only-of-type {\n",
       "        vertical-align: middle;\n",
       "    }\n",
       "\n",
       "    .dataframe tbody tr th {\n",
       "        vertical-align: top;\n",
       "    }\n",
       "\n",
       "    .dataframe thead th {\n",
       "        text-align: right;\n",
       "    }\n",
       "</style>\n",
       "<table border=\"1\" class=\"dataframe\">\n",
       "  <thead>\n",
       "    <tr style=\"text-align: right;\">\n",
       "      <th></th>\n",
       "      <th>Date</th>\n",
       "      <th>Price</th>\n",
       "      <th>Price_Change</th>\n",
       "    </tr>\n",
       "  </thead>\n",
       "  <tbody>\n",
       "    <tr>\n",
       "      <th>0</th>\n",
       "      <td>2023-01-01</td>\n",
       "      <td>100</td>\n",
       "      <td>NaN</td>\n",
       "    </tr>\n",
       "    <tr>\n",
       "      <th>1</th>\n",
       "      <td>2023-01-02</td>\n",
       "      <td>105</td>\n",
       "      <td>5.0</td>\n",
       "    </tr>\n",
       "    <tr>\n",
       "      <th>2</th>\n",
       "      <td>2023-01-03</td>\n",
       "      <td>110</td>\n",
       "      <td>5.0</td>\n",
       "    </tr>\n",
       "    <tr>\n",
       "      <th>3</th>\n",
       "      <td>2023-01-04</td>\n",
       "      <td>108</td>\n",
       "      <td>-2.0</td>\n",
       "    </tr>\n",
       "    <tr>\n",
       "      <th>4</th>\n",
       "      <td>2023-01-05</td>\n",
       "      <td>112</td>\n",
       "      <td>4.0</td>\n",
       "    </tr>\n",
       "  </tbody>\n",
       "</table>\n",
       "</div>"
      ],
      "text/plain": [
       "        Date  Price  Price_Change\n",
       "0 2023-01-01    100           NaN\n",
       "1 2023-01-02    105           5.0\n",
       "2 2023-01-03    110           5.0\n",
       "3 2023-01-04    108          -2.0\n",
       "4 2023-01-05    112           4.0"
      ]
     },
     "execution_count": 18,
     "metadata": {},
     "output_type": "execute_result"
    }
   ],
   "source": [
    "# Shifting \n",
    "\n",
    "# Sample DataFrame with Daily Stock Prices\n",
    "data = {'Date': pd.date_range(start='2023-01-01', periods = 5, freq = 'D'),\n",
    "        'Price': [100, 105, 110, 108, 112]}\n",
    "df = pd.DataFrame(data)\n",
    "\n",
    "# Calculate Price Changes (Interval of 1 day)\n",
    "df['Price_Change'] = df['Price'] - df['Price'].shift(1)\n",
    "df"
   ]
  },
  {
   "cell_type": "code",
   "execution_count": 20,
   "id": "36489001-08d6-4b77-ba9d-64b398668d52",
   "metadata": {},
   "outputs": [
    {
     "name": "stdout",
     "output_type": "stream",
     "text": [
      "Noraml Sorting:\n",
      "     Product    Size\n",
      "2  Product C   Large\n",
      "0  Product A  Medium\n",
      "3  Product D  Medium\n",
      "1  Product B   Small\n",
      "Ordinal Sorting:\n",
      "     Product    Size\n",
      "1  Product B   Small\n",
      "0  Product A  Medium\n",
      "3  Product D  Medium\n",
      "2  Product C   Large\n"
     ]
    }
   ],
   "source": [
    "# Ordinal Sorting \n",
    "\n",
    "# Sample DataFrame with Ordinal Column\n",
    "data = {'Product': ['Product A', 'Product B', 'Product C', 'Product D'],\n",
    "        'Size': ['Medium', 'Small', 'Large', 'Medium']}\n",
    "df = pd.DataFrame(data)\n",
    "\n",
    "# Define Custom Ordinal Order\n",
    "ordinal_order = ['Small', 'Medium', 'Large']\n",
    "\n",
    "# Before Sorting\n",
    "print('Noraml Sorting:')\n",
    "print(df.sort_values(by='Size'))\n",
    "\n",
    "# After Sorting\n",
    "df['Size'] = pd.Categorical(df['Size'], categories = ordinal_order, ordered = True)\n",
    "print('Ordinal Sorting:')\n",
    "print(df.sort_values(by = 'Size'))"
   ]
  },
  {
   "cell_type": "code",
   "execution_count": 23,
   "id": "8ea79dee-5a41-4631-b89b-89ff93df59c3",
   "metadata": {},
   "outputs": [
    {
     "name": "stdout",
     "output_type": "stream",
     "text": [
      "0    11\n",
      "1    22\n",
      "2    33\n",
      "3    44\n",
      "Name: C, dtype: int64\n",
      "0     5.333333\n",
      "1    10.666667\n",
      "2    16.000000\n",
      "3    21.333333\n",
      "Name: D, dtype: float64\n"
     ]
    }
   ],
   "source": [
    "# Eval\n",
    "\n",
    "# Example DataFrame\n",
    "data = {'A': [1, 2, 3, 4],\n",
    "        'B': [10, 20, 30, 40]}\n",
    "df = pd.DataFrame(data)\n",
    "\n",
    "# Create New C\n",
    "df.eval('C = A + B', inplace=True)\n",
    "\n",
    "# Create New D\n",
    "df.eval('D = (A * 2) + (B / 3)', inplace=True)\n",
    "\n",
    "print(df.C)\n",
    "print(df.D)"
   ]
  },
  {
   "cell_type": "code",
   "execution_count": 25,
   "id": "b26d79db-01d7-4134-9cf2-44872721de9a",
   "metadata": {},
   "outputs": [
    {
     "name": "stdout",
     "output_type": "stream",
     "text": [
      "      Name  Age  Salary\n",
      "2  Charlie   35   70000\n",
      "3    David   40   80000\n"
     ]
    }
   ],
   "source": [
    "# Query\n",
    "\n",
    "data = {'Name': ['Alice', 'Bob', 'Charlie', 'David'],\n",
    "        'Age': [25, 30, 35, 40],\n",
    "        'Salary': [50000, 60000, 70000, 80000]}\n",
    "df = pd.DataFrame(data)\n",
    "\n",
    "# Single Query \n",
    "filtered_df = df.query('Age > 30')\n",
    "\n",
    "# Multi Query\n",
    "filtered_df = df.query('(Age > 30) and (Salary > 60000)')\n",
    "\n",
    "print(filtered_df)"
   ]
  },
  {
   "cell_type": "code",
   "execution_count": 27,
   "id": "3d2f2f28-280c-452b-9989-e1fa3183781d",
   "metadata": {},
   "outputs": [
    {
     "name": "stdout",
     "output_type": "stream",
     "text": [
      "Salary    65000\n",
      "Name: (HR, Bob), dtype: int64\n"
     ]
    }
   ],
   "source": [
    "# Sample Hierarchical DataFrame\n",
    "data = {'Department': ['HR', 'HR', 'Engineering', 'Engineering'],\n",
    "        'Employee': ['Alice', 'Bob', 'Charlie', 'David'],\n",
    "        'Salary': [60_000, 65_000, 80_000, 75_000]}\n",
    "df = pd.DataFrame(data)\n",
    "\n",
    "# Create a Hierarchical Index\n",
    "hierarchical_df = df.set_index(['Department', 'Employee'])\n",
    "\n",
    "print(hierarchical_df.loc[('HR','Bob')])  "
   ]
  }
 ],
 "metadata": {
  "kernelspec": {
   "display_name": "Python 3 (ipykernel)",
   "language": "python",
   "name": "python3"
  },
  "language_info": {
   "codemirror_mode": {
    "name": "ipython",
    "version": 3
   },
   "file_extension": ".py",
   "mimetype": "text/x-python",
   "name": "python",
   "nbconvert_exporter": "python",
   "pygments_lexer": "ipython3",
   "version": "3.9.13"
  }
 },
 "nbformat": 4,
 "nbformat_minor": 5
}
