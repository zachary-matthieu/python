{
 "cells": [
  {
   "cell_type": "code",
   "execution_count": 6,
   "id": "02fe2987-016a-43f5-8f7a-671343cf719c",
   "metadata": {},
   "outputs": [
    {
     "name": "stderr",
     "output_type": "stream",
     "text": [
      "C:\\Users\\zacha\\anaconda3\\lib\\site-packages\\matplotlib\\animation.py:887: UserWarning: Animation was deleted without rendering anything. This is most likely not intended. To prevent deletion, assign the Animation to a variable, e.g. `anim`, that exists until you have outputted the Animation using `plt.show()` or `anim.save()`.\n",
      "  warnings.warn(\n"
     ]
    },
    {
     "data": {
      "text/plain": [
       "<Figure size 800x550 with 0 Axes>"
      ]
     },
     "metadata": {},
     "output_type": "display_data"
    }
   ],
   "source": [
    "import random \n",
    "from itertools import count\n",
    "import pandas as pd\n",
    "import matplotlib.pyplot as plt\n",
    "from matplotlib.animation import FuncAnimation\n",
    "\n",
    "x_vals = [0, 1, 2, 3, 4, 5]\n",
    "y_vals = [0, 1, 3, 2, 3, 5]\n",
    "\n",
    "#plt.plot(x_vals, y_vals)\n",
    "\n",
    "index = count()\n",
    "\n",
    "def animate(i):\n",
    "    x_vals.append(next(index))\n",
    "    y_vals.append(random.randint(0, 5))\n",
    "    \n",
    "    plt.cla()\n",
    "    \n",
    "    plt.plot(x_vals, y_vals)\n",
    "\n",
    "ani = FuncAnimation(plt.gcf(), animate, interval = 1000)\n",
    "\n",
    "plt.tight_layout()\n",
    "\n",
    "plt.style.use('seaborn')\n",
    "\n",
    "plt.show()"
   ]
  },
  {
   "cell_type": "code",
   "execution_count": null,
   "id": "fb27a58d-e9dc-4bb2-987f-3ac5a648abd5",
   "metadata": {},
   "outputs": [],
   "source": []
  }
 ],
 "metadata": {
  "kernelspec": {
   "display_name": "Python 3 (ipykernel)",
   "language": "python",
   "name": "python3"
  },
  "language_info": {
   "codemirror_mode": {
    "name": "ipython",
    "version": 3
   },
   "file_extension": ".py",
   "mimetype": "text/x-python",
   "name": "python",
   "nbconvert_exporter": "python",
   "pygments_lexer": "ipython3",
   "version": "3.9.13"
  }
 },
 "nbformat": 4,
 "nbformat_minor": 5
}
