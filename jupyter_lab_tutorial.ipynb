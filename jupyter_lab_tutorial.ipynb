{
 "cells": [
  {
   "cell_type": "markdown",
   "id": "746ed980",
   "metadata": {},
   "source": [
    "# Lists "
   ]
  },
  {
   "cell_type": "code",
   "execution_count": 2,
   "id": "04fb6356",
   "metadata": {},
   "outputs": [
    {
     "name": "stdout",
     "output_type": "stream",
     "text": [
      "17\n"
     ]
    }
   ],
   "source": [
    "given_list = [5, 4, 4, 3, 1, -2, -3, -5]\n",
    "\n",
    "total1 = 0\n",
    "i = 0\n",
    "while given_list[i] > 0:\n",
    "    total1 += given_list[i]\n",
    "    i += 1\n",
    "print(total1)"
   ]
  },
  {
   "cell_type": "code",
   "execution_count": 5,
   "id": "61555145",
   "metadata": {},
   "outputs": [
    {
     "name": "stdout",
     "output_type": "stream",
     "text": [
      "17\n"
     ]
    }
   ],
   "source": [
    "given_list2 = [5, 4, 4, 3, 1, -2, -3, -5]\n",
    "total2 = 0\n",
    "for element in given_list2:\n",
    "    if element <= 0:\n",
    "        break\n",
    "    total2 += element\n",
    "print(total2)"
   ]
  },
  {
   "cell_type": "code",
   "execution_count": 7,
   "id": "a7d1e967",
   "metadata": {},
   "outputs": [
    {
     "name": "stdout",
     "output_type": "stream",
     "text": [
      "17\n"
     ]
    }
   ],
   "source": [
    "total3 = 0\n",
    "i = 0\n",
    "while True:\n",
    "    total3 += given_list2[i]\n",
    "    i += 1\n",
    "    if given_list2[i] <= 0:\n",
    "        break\n",
    "print(total3)    "
   ]
  },
  {
   "cell_type": "markdown",
   "id": "d1a384b1",
   "metadata": {},
   "source": [
    "# Dictionary "
   ]
  },
  {
   "cell_type": "code",
   "execution_count": 8,
   "id": "7332ac83",
   "metadata": {},
   "outputs": [],
   "source": [
    "d = {}"
   ]
  },
  {
   "cell_type": "code",
   "execution_count": 9,
   "id": "43f52d09",
   "metadata": {},
   "outputs": [],
   "source": [
    "d[\"George\"] = 24"
   ]
  },
  {
   "cell_type": "code",
   "execution_count": 10,
   "id": "394442b4",
   "metadata": {},
   "outputs": [],
   "source": [
    "d[\"Tom\"] = 32"
   ]
  },
  {
   "cell_type": "code",
   "execution_count": 11,
   "id": "76a2014d",
   "metadata": {},
   "outputs": [],
   "source": [
    "d[\"Jenny\"] = 16"
   ]
  },
  {
   "cell_type": "code",
   "execution_count": 12,
   "id": "90231197",
   "metadata": {},
   "outputs": [
    {
     "name": "stdout",
     "output_type": "stream",
     "text": [
      "24\n"
     ]
    }
   ],
   "source": [
    "print(d[\"George\"])"
   ]
  },
  {
   "cell_type": "markdown",
   "id": "91710cb0",
   "metadata": {},
   "source": [
    "# Classes and Objects "
   ]
  },
  {
   "cell_type": "code",
   "execution_count": 14,
   "id": "957d2ef7",
   "metadata": {},
   "outputs": [],
   "source": [
    "class Robot:\n",
    "    def introduce_self(self):\n",
    "        print(\"My name is \" + self.name)"
   ]
  },
  {
   "cell_type": "code",
   "execution_count": 15,
   "id": "61c16f4b",
   "metadata": {},
   "outputs": [],
   "source": [
    "r1 = Robot()\n",
    "r1.name = \"Tom\"\n",
    "r1.color = \"Red\"\n",
    "r1.weight = 30"
   ]
  },
  {
   "cell_type": "code",
   "execution_count": 16,
   "id": "e1ace69f",
   "metadata": {},
   "outputs": [
    {
     "name": "stdout",
     "output_type": "stream",
     "text": [
      "My name is Tom\n"
     ]
    }
   ],
   "source": [
    "r1.introduce_self()"
   ]
  },
  {
   "cell_type": "code",
   "execution_count": 20,
   "id": "21c401ae",
   "metadata": {},
   "outputs": [],
   "source": [
    "r2 = Robot()\n",
    "r2.name = \"Jerry\"\n",
    "r2.color = \"Blue\"\n",
    "r2.weight = 40"
   ]
  },
  {
   "cell_type": "code",
   "execution_count": 21,
   "id": "e5990c4e",
   "metadata": {},
   "outputs": [
    {
     "name": "stdout",
     "output_type": "stream",
     "text": [
      "My name is Jerry\n"
     ]
    }
   ],
   "source": [
    "r2.introduce_self()"
   ]
  },
  {
   "cell_type": "code",
   "execution_count": 22,
   "id": "e7468327",
   "metadata": {},
   "outputs": [
    {
     "name": "stdout",
     "output_type": "stream",
     "text": [
      "My name is Tom\n",
      "My name is Jerry\n"
     ]
    }
   ],
   "source": [
    "r1.introduce_self()\n",
    "r2.introduce_self()"
   ]
  },
  {
   "cell_type": "code",
   "execution_count": 90,
   "id": "bf800e77",
   "metadata": {},
   "outputs": [],
   "source": [
    "class Student:\n",
    "    def __init__ (self, name, race, height):\n",
    "        self.name = name \n",
    "        self.race = race\n",
    "        self.height = height\n",
    "        \n",
    "    def introduce_self(self):\n",
    "        print(\"Hello, My name is \" + self.name)"
   ]
  },
  {
   "cell_type": "code",
   "execution_count": 91,
   "id": "ce3e2fc3",
   "metadata": {},
   "outputs": [],
   "source": [
    "s1 = Student(\"Tammy\", \"Asian\", 67)"
   ]
  },
  {
   "cell_type": "code",
   "execution_count": 92,
   "id": "aa150df8",
   "metadata": {},
   "outputs": [
    {
     "name": "stdout",
     "output_type": "stream",
     "text": [
      "Hello, My name is Tammy\n"
     ]
    }
   ],
   "source": [
    "s1.introduce_self()"
   ]
  },
  {
   "cell_type": "code",
   "execution_count": 93,
   "id": "e620f067",
   "metadata": {},
   "outputs": [],
   "source": [
    "s2 = Student(\"Zach\", \"Asian\", 69)"
   ]
  },
  {
   "cell_type": "code",
   "execution_count": 94,
   "id": "93395581",
   "metadata": {},
   "outputs": [
    {
     "name": "stdout",
     "output_type": "stream",
     "text": [
      "Hello, My name is Zach\n"
     ]
    }
   ],
   "source": [
    "s2.introduce_self()"
   ]
  },
  {
   "cell_type": "code",
   "execution_count": 95,
   "id": "6a5fec7d",
   "metadata": {},
   "outputs": [
    {
     "name": "stdout",
     "output_type": "stream",
     "text": [
      "Hello, My name is Tammy\n",
      "Hello, My name is Zach\n"
     ]
    }
   ],
   "source": [
    "s1.introduce_self()\n",
    "s2.introduce_self()"
   ]
  },
  {
   "cell_type": "markdown",
   "id": "e3880cbd",
   "metadata": {},
   "source": [
    "# Part II"
   ]
  },
  {
   "cell_type": "code",
   "execution_count": 116,
   "id": "367333c6",
   "metadata": {},
   "outputs": [],
   "source": [
    "class Employee:\n",
    "    def __init__ (employee, firstname, lastname, department, age):\n",
    "        employee.firstname = firstname\n",
    "        employee.lastname = lastname\n",
    "        employee.department = department\n",
    "        employee.age = age\n",
    "    \n",
    "    def introduce_employee(employee):\n",
    "        print(\"Hello, my name is \" + employee.firstname)"
   ]
  },
  {
   "cell_type": "code",
   "execution_count": 117,
   "id": "0ddc8324",
   "metadata": {},
   "outputs": [],
   "source": [
    "e1 = Employee(\"Tammy\", \"Yen\", \"Accounting\", 21)"
   ]
  },
  {
   "cell_type": "code",
   "execution_count": 118,
   "id": "0d0c51c6",
   "metadata": {},
   "outputs": [
    {
     "name": "stdout",
     "output_type": "stream",
     "text": [
      "Hello, my name is Tammy\n"
     ]
    }
   ],
   "source": [
    "e1.introduce_employee()"
   ]
  },
  {
   "cell_type": "code",
   "execution_count": 119,
   "id": "425aab39",
   "metadata": {},
   "outputs": [],
   "source": [
    "e2 = Employee(\"Zach\", \"Young\", \"Operations\", 25)"
   ]
  },
  {
   "cell_type": "code",
   "execution_count": 120,
   "id": "d73a01b1",
   "metadata": {},
   "outputs": [
    {
     "name": "stdout",
     "output_type": "stream",
     "text": [
      "Hello, my name is Zach\n"
     ]
    }
   ],
   "source": [
    "e2.introduce_employee()"
   ]
  },
  {
   "cell_type": "markdown",
   "id": "bb4a589e",
   "metadata": {},
   "source": [
    "# Boolean "
   ]
  },
  {
   "cell_type": "code",
   "execution_count": 121,
   "id": "58cf9940",
   "metadata": {},
   "outputs": [
    {
     "data": {
      "text/plain": [
       "str"
      ]
     },
     "execution_count": 121,
     "metadata": {},
     "output_type": "execute_result"
    }
   ],
   "source": [
    "type(\"IBM\")"
   ]
  },
  {
   "cell_type": "code",
   "execution_count": 122,
   "id": "c0c59b9f",
   "metadata": {},
   "outputs": [
    {
     "data": {
      "text/plain": [
       "float"
      ]
     },
     "execution_count": 122,
     "metadata": {},
     "output_type": "execute_result"
    }
   ],
   "source": [
    "type(4.32)"
   ]
  },
  {
   "cell_type": "code",
   "execution_count": 123,
   "id": "26e36c0f",
   "metadata": {},
   "outputs": [
    {
     "data": {
      "text/plain": [
       "int"
      ]
     },
     "execution_count": 123,
     "metadata": {},
     "output_type": "execute_result"
    }
   ],
   "source": [
    "type(9)"
   ]
  },
  {
   "cell_type": "code",
   "execution_count": 124,
   "id": "888d553f",
   "metadata": {},
   "outputs": [
    {
     "data": {
      "text/plain": [
       "bool"
      ]
     },
     "execution_count": 124,
     "metadata": {},
     "output_type": "execute_result"
    }
   ],
   "source": [
    "type(True)"
   ]
  },
  {
   "cell_type": "code",
   "execution_count": 125,
   "id": "fd1f516d",
   "metadata": {},
   "outputs": [
    {
     "data": {
      "text/plain": [
       "bool"
      ]
     },
     "execution_count": 125,
     "metadata": {},
     "output_type": "execute_result"
    }
   ],
   "source": [
    "type(False)"
   ]
  },
  {
   "cell_type": "code",
   "execution_count": 128,
   "id": "3f6c28aa",
   "metadata": {},
   "outputs": [
    {
     "name": "stdout",
     "output_type": "stream",
     "text": [
      "a is greater than b\n"
     ]
    }
   ],
   "source": [
    "a = 3\n",
    "b = 1\n",
    "\n",
    "if a > b:\n",
    "    print(\"a is greater than b\")"
   ]
  },
  {
   "cell_type": "code",
   "execution_count": 129,
   "id": "69469195",
   "metadata": {},
   "outputs": [
    {
     "name": "stdout",
     "output_type": "stream",
     "text": [
      "a is greater than b\n"
     ]
    }
   ],
   "source": [
    "if True:\n",
    "    print(\"a is greater than b\")"
   ]
  },
  {
   "cell_type": "code",
   "execution_count": 130,
   "id": "5a940768",
   "metadata": {},
   "outputs": [],
   "source": [
    "boolean_value = a > b"
   ]
  },
  {
   "cell_type": "code",
   "execution_count": 131,
   "id": "d59335c1",
   "metadata": {},
   "outputs": [
    {
     "name": "stdout",
     "output_type": "stream",
     "text": [
      "True\n"
     ]
    }
   ],
   "source": [
    "print(boolean_value)"
   ]
  },
  {
   "cell_type": "code",
   "execution_count": 132,
   "id": "2e17634d",
   "metadata": {},
   "outputs": [
    {
     "name": "stdout",
     "output_type": "stream",
     "text": [
      "a is greater than b\n"
     ]
    }
   ],
   "source": [
    "if boolean_value:\n",
    "    print(\"a is greater than b\")"
   ]
  },
  {
   "cell_type": "code",
   "execution_count": 137,
   "id": "e95ec67b",
   "metadata": {},
   "outputs": [],
   "source": [
    "def are_you_sad(is_rainy, has_umbrella):\n",
    "    if is_rainy == True and has_umbrella == False:\n",
    "        return True\n",
    "    else:\n",
    "        return False"
   ]
  },
  {
   "cell_type": "code",
   "execution_count": 138,
   "id": "04086bb8",
   "metadata": {},
   "outputs": [
    {
     "data": {
      "text/plain": [
       "True"
      ]
     },
     "execution_count": 138,
     "metadata": {},
     "output_type": "execute_result"
    }
   ],
   "source": [
    "are_you_sad(True, False)"
   ]
  },
  {
   "cell_type": "code",
   "execution_count": 139,
   "id": "639ccd0a",
   "metadata": {},
   "outputs": [
    {
     "data": {
      "text/plain": [
       "False"
      ]
     },
     "execution_count": 139,
     "metadata": {},
     "output_type": "execute_result"
    }
   ],
   "source": [
    "are_you_sad(True, True)"
   ]
  },
  {
   "cell_type": "code",
   "execution_count": 140,
   "id": "d9f0bc21",
   "metadata": {},
   "outputs": [],
   "source": [
    "def c_greater_than_d_plus_e(c, d, e):\n",
    "    if c > d + e:\n",
    "        return True\n",
    "    else:\n",
    "        return False"
   ]
  },
  {
   "cell_type": "code",
   "execution_count": 141,
   "id": "bea9c1e0",
   "metadata": {},
   "outputs": [],
   "source": [
    "c = 7\n",
    "d = 3\n",
    "e = 2"
   ]
  },
  {
   "cell_type": "code",
   "execution_count": 142,
   "id": "daba3074",
   "metadata": {},
   "outputs": [
    {
     "data": {
      "text/plain": [
       "True"
      ]
     },
     "execution_count": 142,
     "metadata": {},
     "output_type": "execute_result"
    }
   ],
   "source": [
    "c_greater_than_d_plus_e(7, 3, 2)"
   ]
  },
  {
   "cell_type": "code",
   "execution_count": 143,
   "id": "79884cd7",
   "metadata": {},
   "outputs": [
    {
     "data": {
      "text/plain": [
       "False"
      ]
     },
     "execution_count": 143,
     "metadata": {},
     "output_type": "execute_result"
    }
   ],
   "source": [
    "c_greater_than_d_plus_e(3, 2, 1)"
   ]
  },
  {
   "cell_type": "markdown",
   "id": "d595fb3e",
   "metadata": {},
   "source": [
    "# Comprehension "
   ]
  },
  {
   "cell_type": "code",
   "execution_count": 144,
   "id": "1df452a1",
   "metadata": {},
   "outputs": [],
   "source": [
    "a = [1, 3, 5, 7, 9, 11]"
   ]
  },
  {
   "cell_type": "code",
   "execution_count": null,
   "id": "0767f130",
   "metadata": {},
   "outputs": [],
   "source": [
    "[2, 6, 10, 14, 18, 22]"
   ]
  },
  {
   "cell_type": "code",
   "execution_count": 145,
   "id": "779d023f",
   "metadata": {},
   "outputs": [
    {
     "name": "stdout",
     "output_type": "stream",
     "text": [
      "[10, 2]\n"
     ]
    }
   ],
   "source": [
    "b = []\n",
    "b.append(10)\n",
    "b.append(2)\n",
    "print(b)"
   ]
  },
  {
   "cell_type": "code",
   "execution_count": 147,
   "id": "6654f7e3",
   "metadata": {},
   "outputs": [
    {
     "name": "stdout",
     "output_type": "stream",
     "text": [
      "[2, 6, 10, 14, 18, 22]\n"
     ]
    }
   ],
   "source": [
    "c = []\n",
    "for x in a:\n",
    "    c.append(x * 2)\n",
    "print(c)"
   ]
  },
  {
   "cell_type": "code",
   "execution_count": 148,
   "id": "cdec5ecd",
   "metadata": {},
   "outputs": [],
   "source": [
    "d = [x * 2 for x in a]"
   ]
  },
  {
   "cell_type": "code",
   "execution_count": 149,
   "id": "7f19f1fb",
   "metadata": {},
   "outputs": [
    {
     "name": "stdout",
     "output_type": "stream",
     "text": [
      "[2, 6, 10, 14, 18, 22]\n"
     ]
    }
   ],
   "source": [
    "print(d)"
   ]
  },
  {
   "cell_type": "code",
   "execution_count": 150,
   "id": "775209b6",
   "metadata": {},
   "outputs": [],
   "source": [
    "e = [x * 3 for x in a]"
   ]
  },
  {
   "cell_type": "code",
   "execution_count": 151,
   "id": "4f64b24e",
   "metadata": {},
   "outputs": [
    {
     "name": "stdout",
     "output_type": "stream",
     "text": [
      "[3, 9, 15, 21, 27, 33]\n"
     ]
    }
   ],
   "source": [
    "print(e)"
   ]
  },
  {
   "cell_type": "code",
   "execution_count": null,
   "id": "2bfe0886",
   "metadata": {},
   "outputs": [],
   "source": []
  }
 ],
 "metadata": {
  "kernelspec": {
   "display_name": "Python 3 (ipykernel)",
   "language": "python",
   "name": "python3"
  },
  "language_info": {
   "codemirror_mode": {
    "name": "ipython",
    "version": 3
   },
   "file_extension": ".py",
   "mimetype": "text/x-python",
   "name": "python",
   "nbconvert_exporter": "python",
   "pygments_lexer": "ipython3",
   "version": "3.9.13"
  }
 },
 "nbformat": 4,
 "nbformat_minor": 5
}
